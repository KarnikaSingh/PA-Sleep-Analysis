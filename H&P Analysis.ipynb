{
 "cells": [
  {
   "cell_type": "code",
   "execution_count": null,
   "metadata": {},
   "outputs": [],
   "source": [
    "import pandas as pd\n",
    "import numpy as np\n",
    "import matplotlib.pyplot as plt \n",
    "import seaborn as sns\n",
    "%matplotlib inline\n",
    "import datetime as dt\n",
    "\n",
    "from glob import iglob\n",
    "import pandas as pd\n",
    "import warnings\n",
    "warnings.filterwarnings(\"ignore\")"
   ]
  },
  {
   "cell_type": "code",
   "execution_count": null,
   "metadata": {},
   "outputs": [],
   "source": [
    "#Get MMI data\n",
    "df_mmi=df[df['Type']=='meanMotionIntensity']"
   ]
  },
  {
   "cell_type": "code",
   "execution_count": null,
   "metadata": {},
   "outputs": [],
   "source": [
    "df_mmi['Start Time']=df_mmi['Start Time'].apply(pd.to_datetime)"
   ]
  },
  {
   "cell_type": "code",
   "execution_count": null,
   "metadata": {},
   "outputs": [],
   "source": [
    "df_mmi['End Time']=df_mmi['End Time'].apply(pd.to_datetime)"
   ]
  },
  {
   "cell_type": "code",
   "execution_count": null,
   "metadata": {},
   "outputs": [],
   "source": [
    "df_mmi['Start_Time_Offset']=df_mmi['Start Time']+ pd.to_timedelta(df_mmi['Time Zone Offset'], unit='s')\n",
    "df_mmi['End_Time_Offset']=df_mmi['End Time']+ pd.to_timedelta(df_mmi['Time Zone Offset'], unit='s')"
   ]
  },
  {
   "cell_type": "code",
   "execution_count": null,
   "metadata": {},
   "outputs": [],
   "source": [
    "#get steps data\n",
    "df_steps=df[df['Type']=='steps']\n",
    "df_steps['User UUID'].nunique()"
   ]
  },
  {
   "cell_type": "code",
   "execution_count": null,
   "metadata": {},
   "outputs": [],
   "source": [
    "df_steps['Start Time']=df_steps['Start Time'].apply(pd.to_datetime)"
   ]
  },
  {
   "cell_type": "code",
   "execution_count": null,
   "metadata": {},
   "outputs": [],
   "source": [
    "df_steps['End Time']=df_steps['End Time'].apply(pd.to_datetime)"
   ]
  },
  {
   "cell_type": "code",
   "execution_count": null,
   "metadata": {},
   "outputs": [],
   "source": [
    "df_steps['Start_Time_Offset']=df_steps['Start Time']+ pd.to_timedelta(df_steps['Time Zone Offset'], unit='s')\n",
    "df_steps['End_Time_Offset']=df_steps['End Time']+ pd.to_timedelta(df_steps['Time Zone Offset'], unit='s')"
   ]
  },
  {
   "cell_type": "code",
   "execution_count": null,
   "metadata": {},
   "outputs": [],
   "source": [
    "df_merge_steps_mi = pd.merge(df_steps, df_mmi, left_on=['User UUID','Start_Time_Offset','End_Time_Offset'],right_on=['User UUID','Start_Time_Offset','End_Time_Offset'])\n",
    "df_merge_steps_mi\n",
    "df_merge_steps_mi['User UUID'].nunique()"
   ]
  },
  {
   "cell_type": "code",
   "execution_count": null,
   "metadata": {},
   "outputs": [],
   "source": [
    "df_merge_steps_mi"
   ]
  },
  {
   "cell_type": "code",
   "execution_count": null,
   "metadata": {},
   "outputs": [],
   "source": [
    "\n",
    "df_merge_dup = df_merge_steps_mi.drop_duplicates(subset=['User UUID', 'Start_Time_Offset','End_Time_Offset','Value_x'], keep='first')\n",
    "df_merge_dup"
   ]
  },
  {
   "cell_type": "code",
   "execution_count": null,
   "metadata": {},
   "outputs": [],
   "source": [
    "df_merge_dup['End Time']=df_merge_dup['End Time_x'].apply(pd.to_datetime)"
   ]
  },
  {
   "cell_type": "code",
   "execution_count": null,
   "metadata": {},
   "outputs": [],
   "source": [
    "df_merge_dup['Start_Time_Date_Offset_x'] = df_merge_dup['Start_Time_Offset'].dt.date\n",
    "df_merge_dup['End_Time_Date_Offset_x'] = df_merge_dup['End_Time_Offset'].dt.date"
   ]
  },
  {
   "cell_type": "code",
   "execution_count": null,
   "metadata": {},
   "outputs": [],
   "source": [
    "df_merge_dup['month_year'] = df_merge_dup['Start_Time_Offset'].dt.to_period('M')\n",
    "\n",
    "df_merge_dup['Total_Steps_Per_Day_pre_missing'] = df_merge_dup.groupby(['Start_Time_Date_Offset_x', 'User UUID'])['Value_x'].transform('sum')\n",
    "\n",
    "\n",
    "\n",
    "df_merge_dup['Mon_Year'] = df_merge_dup['Start_Time_Offset'].dt.strftime('%b-%Y')\n",
    "\n",
    "df_merge_dup['Month_Year_Name']=df_merge_dup['Mon_Year']\n",
    "\n",
    "df_merge_dup.loc[(df_merge_dup['Start_Time_Date_Offset_x'] <dt.date(2020,3,15)) & (df_merge_dup['Start_Time_Date_Offset_x'] >=dt.date(2020,3,1)), 'Month_Year_Name'] = '1-14 Mar-2020'\n",
    "df_merge_dup.loc[(df_merge_dup['Start_Time_Date_Offset_x'] <dt.date(2020,4,1)) & (df_merge_dup['Start_Time_Date_Offset_x'] >dt.date(2020,3,14)), 'Month_Year_Name'] = '15-31 Mar-2020'\n",
    "df_merge_dup.loc[(df_merge_dup['Start_Time_Date_Offset_x'] >=dt.date(2020,4,1)), 'Month_Year_Name'] = df_merge_dup.Month_Year_Name\n",
    "\n",
    "\n",
    "df_merge_dup['Average_Monthly_Steps_Lockdown_pre_missing']=df_merge_dup.groupby([ 'User UUID','Month_Year_Name'])['Total_Steps_Per_Day_pre_missing'].transform('mean')\n"
   ]
  },
  {
   "cell_type": "code",
   "execution_count": null,
   "metadata": {},
   "outputs": [],
   "source": [
    "df_merge_dup['Average_Monthly_Steps_Lockdown_pre_missing'].mean()\n"
   ]
  },
  {
   "cell_type": "code",
   "execution_count": null,
   "metadata": {},
   "outputs": [],
   "source": [
    "df_merge_dup['Average_Monthly_Steps_Lockdown_pre_missing'].std()"
   ]
  },
  {
   "cell_type": "code",
   "execution_count": null,
   "metadata": {},
   "outputs": [],
   "source": [
    "df_merge_dup['Average_Monthly_Steps_Lockdown_pre_missing'].min()"
   ]
  },
  {
   "cell_type": "code",
   "execution_count": null,
   "metadata": {},
   "outputs": [],
   "source": [
    "df_merge_dup['Average_Monthly_Steps_Lockdown_pre_missing'].max()"
   ]
  },
  {
   "cell_type": "code",
   "execution_count": null,
   "metadata": {},
   "outputs": [],
   "source": [
    "df_merge_dup['User UUID'].nunique()"
   ]
  },
  {
   "cell_type": "code",
   "execution_count": null,
   "metadata": {},
   "outputs": [],
   "source": [
    "df_zero=df_merge_dup[df_merge_dup['Value_y']<1]"
   ]
  },
  {
   "cell_type": "code",
   "execution_count": null,
   "metadata": {},
   "outputs": [],
   "source": [
    "df_non_zero=df_merge_dup[df_merge_dup['Value_y']>=1]\n",
    "df_non_zero\n",
    "df_non_zero['User UUID'].nunique()"
   ]
  },
  {
   "cell_type": "code",
   "execution_count": null,
   "metadata": {},
   "outputs": [],
   "source": [
    "#Calculate missingness\n",
    "#df_steps_missing=df_merge_steps_mi_dup_non_zero\n",
    "df_steps_missing=df_non_zero\n",
    "\n",
    "\n",
    "df_steps_missing['Num_of_days']=0\n",
    "df_steps_missing['total_percent_missing']=0\n",
    "df_steps_missing['percent_missing_per_day']=0\n",
    "df_steps_missing['Epochs_per_day']=0\n",
    "\n",
    "\n",
    "df_steps_missing['Epochs_per_day_count']=df_steps_missing.groupby([ 'User UUID','Start_Time_Date_Offset_x'])['Start_Time_Offset'].transform('count')\n",
    "df_steps_missing['Epochs_per_day']=df_steps_missing.groupby([ 'User UUID','Start_Time_Date_Offset_x'])['Start_Time_Offset'].transform('nunique')\n",
    "df_steps_missing['Epochs_per_day']=pd.to_numeric(df_steps_missing['Epochs_per_day'])\n",
    "df_steps_missing['percent_missing_per_day']  = df_steps_missing['Epochs_per_day']/96\n",
    "df_steps_missing['Num_of_days']=df_steps_missing.groupby([ 'User UUID'])['Start_Time_Date_Offset_x'].transform('nunique')\n",
    "\n"
   ]
  },
  {
   "cell_type": "code",
   "execution_count": null,
   "metadata": {},
   "outputs": [],
   "source": [
    "df_steps_missing['Epochs_per_day'].max()"
   ]
  },
  {
   "cell_type": "code",
   "execution_count": null,
   "metadata": {},
   "outputs": [],
   "source": [
    "df_steps_missing['Epochs_per_day'].min()"
   ]
  },
  {
   "cell_type": "code",
   "execution_count": null,
   "metadata": {},
   "outputs": [],
   "source": [
    "df_steps_missing['Valid_Day']='no'\n",
    "df_steps_missing.loc[(df_steps_missing['Epochs_per_day'] >40), 'Valid_Day'] = 'yes'\n"
   ]
  },
  {
   "cell_type": "code",
   "execution_count": null,
   "metadata": {},
   "outputs": [],
   "source": [
    "#restrict time\n",
    "df_all_periods=df_steps_missing[(df_steps_missing['Start_Time_Date_Offset_x']>=dt.date(2019,3,1)) & (df_steps_missing['Start_Time_Date_Offset_x'] <=dt.date(2021,6,30))]\n",
    "\n",
    "print(df_all_periods['Start_Time_Date_Offset_x'].min())\n",
    "\n",
    "print(df_all_periods['Start_Time_Date_Offset_x'].max())\n",
    "\n"
   ]
  },
  {
   "cell_type": "code",
   "execution_count": null,
   "metadata": {},
   "outputs": [],
   "source": [
    "df_all_periods.loc[(df_all_periods['Start_Time_Date_Offset_x'] <dt.date(2020,3,15)) & (df_all_periods['Start_Time_Date_Offset_x'] >=dt.date(2019,3,1)), 'closure_status'] = 'Pre Closure'\n",
    "\n",
    "df_all_periods.loc[(df_all_periods['Start_Time_Date_Offset_x'] <=dt.date(2021,3,31)) & (df_all_periods['Start_Time_Date_Offset_x'] >=dt.date(2020,3,15)), 'closure_status'] = 'During Closure'\n",
    "\n",
    "df_all_periods.loc[(df_all_periods['Start_Time_Date_Offset_x'] >dt.date(2021,3,31)), 'closure_status'] = 'Post Closure'\n",
    "\n",
    "print(df_all_periods.groupby('closure_status')['Start_Time_Date_Offset_x'].min())\n"
   ]
  },
  {
   "cell_type": "code",
   "execution_count": null,
   "metadata": {},
   "outputs": [],
   "source": [
    "print(df_all_periods.groupby('closure_status')['Start_Time_Date_Offset_x'].max())"
   ]
  },
  {
   "cell_type": "code",
   "execution_count": null,
   "metadata": {},
   "outputs": [],
   "source": [
    "df_valid_days=df_all_periods[df_all_periods['Valid_Day']=='yes']\n",
    "\n",
    "\n",
    "df_valid_days['Num_of_days_valid_epochs']=df_valid_days.groupby(['User UUID'])['Start_Time_Date_Offset_x'].transform('nunique')\n",
    "\n",
    "\n",
    "df_valid_days_daycount=df_valid_days[df_valid_days['Num_of_days_valid_epochs']>60]"
   ]
  },
  {
   "cell_type": "code",
   "execution_count": null,
   "metadata": {},
   "outputs": [],
   "source": [
    "df_valid_days_daycount['Epochs_per_day'].min()"
   ]
  },
  {
   "cell_type": "code",
   "execution_count": null,
   "metadata": {},
   "outputs": [],
   "source": [
    "df_valid_days_daycount['Epochs_per_day'].max()"
   ]
  },
  {
   "cell_type": "code",
   "execution_count": null,
   "metadata": {},
   "outputs": [],
   "source": [
    "epoch_count=df_all_periods\n",
    "epoch_count['Num_of_days_valid_epochs']=epoch_count.groupby(['User UUID'])['Start_Time_Date_Offset_x'].transform('nunique')\n",
    "\n",
    "epoch_count = df_all_periods.drop_duplicates(subset=['User UUID', 'Num_of_days_valid_epochs'], keep='first')\n",
    "epoch_count\n",
    "\n",
    "epoch_count_only=epoch_count[['Num_of_days_valid_epochs']]\n",
    "epoch_count_only\n",
    "\n",
    "\n"
   ]
  },
  {
   "cell_type": "code",
   "execution_count": null,
   "metadata": {},
   "outputs": [],
   "source": [
    "\n",
    "plt.figure(figsize=(60,20))\n",
    "sns.set(font_scale =5)\n",
    "default_x_ticks = range(len(epoch_count_only))\n",
    "fig, ax = plt.subplots(figsize=(60,20))\n",
    "ax.hist(epoch_count_only['Num_of_days_valid_epochs'],bins=61,cumulative=-1, density=False)\n",
    "ax.set_facecolor('white')\n",
    "\n"
   ]
  },
  {
   "cell_type": "code",
   "execution_count": null,
   "metadata": {},
   "outputs": [],
   "source": [
    "epoch_count_only[epoch_count_only['Num_of_days_valid_epochs']>=61].nunique()"
   ]
  },
  {
   "cell_type": "code",
   "execution_count": null,
   "metadata": {},
   "outputs": [],
   "source": [
    "epoch_count_only[epoch_count_only['Num_of_days_valid_epochs']>=40].nunique()"
   ]
  },
  {
   "cell_type": "code",
   "execution_count": null,
   "metadata": {},
   "outputs": [],
   "source": [
    "epoch_count_only[epoch_count_only['Num_of_days_valid_epochs']>=70].nunique()"
   ]
  },
  {
   "cell_type": "code",
   "execution_count": null,
   "metadata": {},
   "outputs": [],
   "source": [
    "epoch_count_only[epoch_count_only['Num_of_days_valid_epochs']>=80].nunique()"
   ]
  },
  {
   "cell_type": "code",
   "execution_count": null,
   "metadata": {},
   "outputs": [],
   "source": [
    "epoch_count_only[epoch_count_only['Num_of_days_valid_epochs']>=90].nunique()"
   ]
  },
  {
   "cell_type": "code",
   "execution_count": null,
   "metadata": {},
   "outputs": [],
   "source": [
    "#Heatmap\n",
    "\n",
    "df_epoch_dup=df_all_periods.drop_duplicates(subset=['User UUID', 'Start_Time_Date_Offset_x'], keep='last',inplace=False)\n",
    "df2=df_epoch_dup.groupby(['User UUID','Epochs_per_day'])['Start_Time_Date_Offset_x'].count()\n",
    "\n",
    "df3=df2.reset_index()\n",
    "\n",
    "df3[\"Epochs_per_day\"] = df3[\"Epochs_per_day\"].replace(np.nan, 0)\n",
    "\n",
    "df3[\"Start_Time_Date_Offset_x\"] = df3[\"Start_Time_Date_Offset_x\"].replace(np.nan, 0)\n",
    "\n",
    "\n",
    "df_pivot=df3.pivot_table(values='User UUID', index=['Epochs_per_day'],\n",
    "                    columns=['Start_Time_Date_Offset_x'], aggfunc=pd.Series.nunique)\n",
    "df_pivot.replace(np.nan, 0,inplace=True)\n",
    "\n",
    "sns.set(rc={\"figure.figsize\":(20, 7)})\n",
    "\n",
    "sns.set_context(\"paper\", rc={\"font.size\":90,\"axes.titlesize\":50,\"axes.labelsize\":20})\n",
    "sns.set(rc={'axes.facecolor':'snow', 'figure.facecolor':'white'})\n",
    "ax=sns.heatmap(df_pivot, cmap=\"rocket_r\", mask=(df_pivot==0))\n",
    "ax.invert_yaxis()"
   ]
  },
  {
   "cell_type": "code",
   "execution_count": null,
   "metadata": {},
   "outputs": [],
   "source": [
    "df_valid_days_daycount['User UUID'].nunique()"
   ]
  },
  {
   "cell_type": "code",
   "execution_count": null,
   "metadata": {},
   "outputs": [],
   "source": [
    "df_valid_days_daycount['Total_Steps_Per_Day_post_missing'] = df_valid_days_daycount.groupby(['Start_Time_Date_Offset_x', 'User UUID'])['Value_x'].transform('sum')\n",
    "\n",
    "\n",
    "df_valid_days_daycount['Average_Monthly_Steps_Lockdown_post_missing']=df_valid_days_daycount.groupby([ 'User UUID','Month_Year_Name'])['Total_Steps_Per_Day_post_missing'].transform('mean')\n",
    "\n"
   ]
  },
  {
   "cell_type": "code",
   "execution_count": null,
   "metadata": {},
   "outputs": [],
   "source": [
    "df_merge = pd.merge(b, a, left_on=['lastName'],right_on=['study_id'])\n",
    "df_merge"
   ]
  },
  {
   "cell_type": "code",
   "execution_count": null,
   "metadata": {},
   "outputs": [],
   "source": [
    "df_valid_days_daycount['User UUID'].nunique()"
   ]
  },
  {
   "cell_type": "code",
   "execution_count": null,
   "metadata": {},
   "outputs": [],
   "source": [
    "df_valid_days_daycount.groupby( 'User UUID')['Start_Time_Date_Offset_x'].transform('nunique').mean()"
   ]
  },
  {
   "cell_type": "code",
   "execution_count": null,
   "metadata": {},
   "outputs": [],
   "source": [
    "df_valid_days_daycount_dup = df_valid_days_daycount.drop_duplicates(subset=['User UUID', 'Average_Monthly_Steps_Lockdown_post_missing','Month_Year_Name'], keep='first')\n",
    "df_valid_days_daycount_dup"
   ]
  },
  {
   "cell_type": "code",
   "execution_count": null,
   "metadata": {},
   "outputs": [],
   "source": [
    "df_valid_days_daycount_dup['User UUID'].nunique()"
   ]
  },
  {
   "cell_type": "code",
   "execution_count": null,
   "metadata": {},
   "outputs": [],
   "source": [
    "df_valid_days_daycount_dup['Month_Year_Name'].unique()"
   ]
  },
  {
   "cell_type": "code",
   "execution_count": null,
   "metadata": {},
   "outputs": [],
   "source": [
    "#Min\n",
    "df_valid_days_daycount_dup.groupby('closure_status')['Average_Monthly_Steps_Lockdown_post_missing'].min()\n"
   ]
  },
  {
   "cell_type": "code",
   "execution_count": null,
   "metadata": {},
   "outputs": [],
   "source": [
    "\n",
    "#Max\n",
    "df_valid_days_daycount_dup.groupby('closure_status')['Average_Monthly_Steps_Lockdown_post_missing'].max()\n"
   ]
  },
  {
   "cell_type": "code",
   "execution_count": null,
   "metadata": {},
   "outputs": [],
   "source": [
    "#Mean\n",
    "df_valid_days_daycount_dup.groupby('closure_status')['Average_Monthly_Steps_Lockdown_post_missing'].mean()\n"
   ]
  },
  {
   "cell_type": "code",
   "execution_count": null,
   "metadata": {},
   "outputs": [],
   "source": [
    "\n",
    "#Std\n",
    "df_valid_days_daycount_dup.groupby('closure_status')['Average_Monthly_Steps_Lockdown_post_missing'].std()\n"
   ]
  },
  {
   "cell_type": "code",
   "execution_count": null,
   "metadata": {},
   "outputs": [],
   "source": [
    "\n",
    "#Users\n",
    "df_valid_days_daycount_dup.groupby('closure_status')['User UUID'].nunique()"
   ]
  },
  {
   "cell_type": "code",
   "execution_count": null,
   "metadata": {},
   "outputs": [],
   "source": [
    "df_valid_days_daycount_dup['Month_Year_Name'].unique()\n"
   ]
  },
  {
   "cell_type": "code",
   "execution_count": null,
   "metadata": {},
   "outputs": [],
   "source": [
    "df_merge_demo = pd.merge(b, a, left_on=['lastName'],right_on=['study_id'])"
   ]
  },
  {
   "cell_type": "code",
   "execution_count": null,
   "metadata": {},
   "outputs": [],
   "source": [
    "df_closure_demo = pd.merge(df_merge_demo, df_valid_days_daycount_dup, left_on=['uuid'],right_on=['User UUID'])"
   ]
  },
  {
   "cell_type": "code",
   "execution_count": null,
   "metadata": {},
   "outputs": [],
   "source": [
    "df_closure_demo = df_closure_demo.drop_duplicates(subset=['User UUID','closure_status'], keep='first')"
   ]
  },
  {
   "cell_type": "code",
   "execution_count": null,
   "metadata": {},
   "outputs": [],
   "source": [
    "df_closure_demo.groupby('closure_status')['sex'].value_counts()"
   ]
  },
  {
   "cell_type": "code",
   "execution_count": null,
   "metadata": {},
   "outputs": [],
   "source": [
    "df_closure_demo[df_closure_demo['closure_status']=='During Closure']['sex'].value_counts()"
   ]
  },
  {
   "cell_type": "code",
   "execution_count": null,
   "metadata": {},
   "outputs": [],
   "source": [
    "df_closure_demo.groupby('closure_status')['trt'].value_counts()"
   ]
  },
  {
   "cell_type": "code",
   "execution_count": null,
   "metadata": {},
   "outputs": [],
   "source": [
    "df_closure_demo.groupby('closure_status')['sex'].value_counts()"
   ]
  },
  {
   "cell_type": "code",
   "execution_count": null,
   "metadata": {},
   "outputs": [],
   "source": [
    "df_closure_demo.groupby('closure_status')['age'].median()"
   ]
  },
  {
   "cell_type": "code",
   "execution_count": null,
   "metadata": {},
   "outputs": [],
   "source": [
    "df_closure_demo.groupby('closure_status')['age'].std()"
   ]
  },
  {
   "cell_type": "code",
   "execution_count": null,
   "metadata": {},
   "outputs": [],
   "source": [
    "df_closure_demo[(df_closure_demo['age']<11)&(df_closure_demo['age']>=5)].groupby('closure_status')['uuid'].nunique()"
   ]
  },
  {
   "cell_type": "code",
   "execution_count": null,
   "metadata": {},
   "outputs": [],
   "source": [
    "df_closure_demo[(df_closure_demo['age']<14)&(df_closure_demo['age']>=11)].groupby('closure_status')['uuid'].nunique()"
   ]
  },
  {
   "cell_type": "code",
   "execution_count": null,
   "metadata": {},
   "outputs": [],
   "source": [
    "df_closure_demo[(df_closure_demo['age']<=18)&(df_closure_demo['age']>=14)].groupby('closure_status')['uuid'].nunique()"
   ]
  },
  {
   "cell_type": "code",
   "execution_count": null,
   "metadata": {},
   "outputs": [],
   "source": [
    "df_closure_demo.groupby('closure_status')['race'].value_counts()"
   ]
  },
  {
   "cell_type": "code",
   "execution_count": null,
   "metadata": {},
   "outputs": [],
   "source": [
    "df_closure_demo.groupby('closure_status')['ethnic'].value_counts()\n"
   ]
  },
  {
   "cell_type": "code",
   "execution_count": null,
   "metadata": {},
   "outputs": [],
   "source": [
    "#new: One average per month\n",
    "\n",
    "df_valid_days_daycount_dup_month=df_valid_days_daycount_dup\n",
    "\n",
    "df_valid_days_daycount_dup_month['average_steps_per_month_post_missing']=df_valid_days_daycount_dup_month.groupby(['Month_Year_Name'])['Average_Monthly_Steps_Lockdown_post_missing'].transform('mean')\n",
    "\n",
    "df_valid_days_daycount_dup_month = df_valid_days_daycount_dup_month.drop_duplicates(subset=['average_steps_per_month_post_missing','Month_Year_Name'], keep='first')"
   ]
  },
  {
   "cell_type": "code",
   "execution_count": null,
   "metadata": {},
   "outputs": [],
   "source": [
    "df_valid_days_daycount_dup_month['Month_Year_Name'].unique()\n"
   ]
  },
  {
   "cell_type": "code",
   "execution_count": null,
   "metadata": {},
   "outputs": [],
   "source": [
    "\n",
    "#Min\n",
    "df_valid_days_daycount_dup_month.groupby('closure_status')['average_steps_per_month_post_missing'].min()\n",
    "\n"
   ]
  },
  {
   "cell_type": "code",
   "execution_count": null,
   "metadata": {},
   "outputs": [],
   "source": [
    "\n",
    "\n",
    "#Max\n",
    "df_valid_days_daycount_dup_month.groupby('closure_status')['average_steps_per_month_post_missing'].max()\n"
   ]
  },
  {
   "cell_type": "code",
   "execution_count": null,
   "metadata": {},
   "outputs": [],
   "source": [
    "\n",
    "#Mean\n",
    "df_valid_days_daycount_dup_month.groupby('closure_status')['average_steps_per_month_post_missing'].mean()\n",
    "\n"
   ]
  },
  {
   "cell_type": "code",
   "execution_count": null,
   "metadata": {},
   "outputs": [],
   "source": [
    "\n",
    "\n",
    "#Std\n",
    "df_valid_days_daycount_dup_month.groupby('closure_status')['average_steps_per_month_post_missing'].std()\n"
   ]
  },
  {
   "cell_type": "code",
   "execution_count": null,
   "metadata": {},
   "outputs": [],
   "source": [
    "#Users\n",
    "df_valid_days_daycount_dup_month.groupby('closure_status')['User UUID'].nunique()"
   ]
  },
  {
   "cell_type": "code",
   "execution_count": null,
   "metadata": {},
   "outputs": [],
   "source": [
    "#Exclude summer for TOD comparison with overall\n",
    "\n",
    "df_valid_days_daycount_dup_month_non_sum=df_valid_days_daycount_dup_month[(df_valid_days_daycount_dup_month['Month_Year_Name']!='Jun-2020')\n",
    "                                                                       &(df_valid_days_daycount_dup_month['Month_Year_Name']!='Jul-2020')\n",
    "                                                                       &(df_valid_days_daycount_dup_month['Month_Year_Name']!='Aug-2020')\n",
    "                                                               &(df_valid_days_daycount_dup_month['Month_Year_Name']!='Jun-2019')\n",
    "                                                               &(df_valid_days_daycount_dup_month['Month_Year_Name']!='Jul-2019')\n",
    "                                                               &(df_valid_days_daycount_dup_month['Month_Year_Name']!='Aug-2019')\n",
    "                                                                &(df_valid_days_daycount_dup_month['Month_Year_Name']!='Jun-2021')\n",
    "                                                               &(df_valid_days_daycount_dup_month['Month_Year_Name']!='Jul-2021')\n",
    "                                                               &(df_valid_days_daycount_dup_month['Month_Year_Name']!='Aug-2021')]\n",
    "\n"
   ]
  },
  {
   "cell_type": "code",
   "execution_count": null,
   "metadata": {},
   "outputs": [],
   "source": [
    "#Mean\n",
    "df_valid_days_daycount_dup_month_non_sum.groupby('closure_status')['average_steps_per_month_post_missing'].mean()\n",
    "\n"
   ]
  },
  {
   "cell_type": "code",
   "execution_count": null,
   "metadata": {},
   "outputs": [],
   "source": [
    "#Figure\n",
    "\n",
    "df_valid_days_daycount_dup_fig=df_valid_days_daycount_dup\n",
    "df_valid_days_daycount_dup_fig['pre_avg']= 8809.83\n",
    "\n",
    "\n",
    "plt.figure(figsize=(60,20))\n",
    "sns.set(font_scale =5)\n",
    "sns.set_style(\"white\")\n",
    "sns.set_palette(\"Set1\", 8, .75)\n",
    "ax=sns.lineplot(x = 'Month_Year_Name', y = 'Average_Monthly_Steps_Lockdown_post_missing'\n",
    "                , data = df_valid_days_daycount_dup_fig\n",
    "             ,color='darkcyan'\n",
    "             ,linewidth = 15\n",
    "           , sort=False)\n",
    "sns.lineplot(x = 'Month_Year_Name', y = 'pre_avg'\n",
    "                , data = df_valid_days_daycount_dup_fig\n",
    "             ,color='grey'\n",
    "            , linestyle='--'\n",
    "             ,linewidth = 10\n",
    "           , sort=False)\n",
    "\n",
    "plt.setp(ax.get_xticklabels(), rotation=90)\n",
    "ax.set_xlabel(\"Month\",fontdict= { 'fontsize': 60, 'fontweight':'bold'}, y =2)\n",
    "ax.set_ylabel(\"Average Daily Number of Steps Per Month\",fontdict= { 'fontsize': 55, 'fontweight':'bold'})\n",
    "ax.set_title('Average Daily Step Values for Participants (Non zero MMI, after missingness analysis)',fontdict= { 'fontsize': 60, 'fontweight':'bold'}, y =1.1)\n",
    "ax.axvline(\"1-14 Mar-2020\", color=\"firebrick\", linestyle=\"--\", lw=10)\n",
    "plt.legend(loc=\"upper right\", frameon=True, fontsize=50)\n",
    "plt.setp(ax.get_legend().get_texts(), fontsize='50') # for legend text\n",
    "plt.setp(ax.get_legend().get_title(), fontsize='50') # for legend title\n"
   ]
  },
  {
   "cell_type": "code",
   "execution_count": null,
   "metadata": {},
   "outputs": [],
   "source": [
    "#Statistical test\n",
    "\n",
    "steps_pre_closure=df_valid_days_daycount_dup[df_valid_days_daycount_dup['closure_status']=='Pre Closure']\n",
    "\n",
    "steps_pre_closure['Monthly_Avg']=steps_pre_closure.groupby(['Month_Year_Name'])['Average_Monthly_Steps_Lockdown_post_missing'].transform('mean')\n",
    "\n",
    "steps_pre_closure['month_num']=steps_pre_closure['Start_Time_Offset'].dt.month\n",
    "#steps_pre['month_num'].unique()\n",
    "steps_pre_closure=steps_pre_closure.sort_values(by=['month_num'])\n",
    "steps_pre_closure\n",
    "\n",
    "steps_pre_closure_col=steps_pre_closure[['Month_Year_Name','Monthly_Avg']]\n",
    "steps_pre_closure_dup = steps_pre_closure_col.drop_duplicates(subset=['Monthly_Avg', 'Month_Year_Name'], keep='first')\n",
    "steps_pre_closure_dup"
   ]
  },
  {
   "cell_type": "code",
   "execution_count": null,
   "metadata": {},
   "outputs": [],
   "source": [
    "steps_dur_closure=df_valid_days_daycount_dup[df_valid_days_daycount_dup['closure_status']=='During Closure']\n",
    "\n",
    "steps_dur_closure['Monthly_Avg']=steps_dur_closure.groupby(['Month_Year_Name'])['Average_Monthly_Steps_Lockdown_post_missing'].transform('mean')\n",
    "\n",
    "steps_dur_closure['month_num']=steps_dur_closure['Start_Time_Offset'].dt.month\n",
    "steps_dur_closure=steps_dur_closure.sort_values(by=['month_num'])\n",
    "steps_dur_closure\n",
    "\n",
    "steps_dur_closure_col=steps_dur_closure[['Month_Year_Name','Monthly_Avg']]\n",
    "steps_dur_closure_dup = steps_dur_closure_col.drop_duplicates(subset=['Monthly_Avg', 'Month_Year_Name'], keep='first')\n",
    "steps_dur_closure_dup"
   ]
  },
  {
   "cell_type": "code",
   "execution_count": null,
   "metadata": {},
   "outputs": [],
   "source": [
    "from scipy.stats import mannwhitneyu\n",
    "U1, p = mannwhitneyu(steps_dur_closure_dup['Monthly_Avg'], steps_pre_closure_dup['Monthly_Avg'])\n",
    "print(U1)\n",
    "print(p*100)\n",
    "\n",
    "print(p)"
   ]
  },
  {
   "cell_type": "code",
   "execution_count": null,
   "metadata": {},
   "outputs": [],
   "source": [
    "#Time of day analysis\n",
    "\n",
    "df_closure_tod=df_valid_days_daycount\n",
    "\n",
    "df_closure_tod['Start Time Only Time']=df_closure_tod['Start_Time_Offset'].dt.strftime(\"%H:%M:%S\")\n",
    "# all_data_merged_steps[all_data_merged_steps['Start Time Only Time']>'16:15:00']\n",
    "# base on data instead\n",
    "df_closure_tod['Time_Of_Day']=\"Night\"\n",
    "df_closure_tod.loc[(df_closure_tod['Start Time Only Time'] <'11:00:00') & (df_closure_tod['Start Time Only Time'] >='07:00:00'), 'Time_Of_Day'] = 'Morning'\n",
    "df_closure_tod.loc[(df_closure_tod['Start Time Only Time'] <'16:00:00') & (df_closure_tod['Start Time Only Time'] >='11:00:00'), 'Time_Of_Day'] = 'Afternoon'\n",
    "df_closure_tod.loc[(df_closure_tod['Start Time Only Time'] <'20:00:00') & (df_closure_tod['Start Time Only Time'] >='16:00:00'), 'Time_Of_Day'] = 'Evening'\n",
    "\n"
   ]
  },
  {
   "cell_type": "code",
   "execution_count": null,
   "metadata": {},
   "outputs": [],
   "source": [
    "\n",
    "df_closure_tod['Wkday_Num']=df_closure_tod['Start_Time_Offset'].dt.weekday\n",
    "\n",
    "df_closure_tod['Wkday_Num'].unique()\n",
    "\n"
   ]
  },
  {
   "cell_type": "code",
   "execution_count": null,
   "metadata": {},
   "outputs": [],
   "source": [
    "df_closure_tod_wkday=df_closure_tod[df_closure_tod['Wkday_Num'].isin([0,1,2,3,4])]\n",
    "df_closure_tod_wkday['Wkday_Num'].unique()\n",
    "\n"
   ]
  },
  {
   "cell_type": "code",
   "execution_count": null,
   "metadata": {},
   "outputs": [],
   "source": [
    "df_closure_tod_wkday[['Wkday_Num','Start_Time_Offset']]"
   ]
  },
  {
   "cell_type": "code",
   "execution_count": null,
   "metadata": {},
   "outputs": [],
   "source": [
    "df_closure_tod_wkday_school=df_closure_tod_wkday[(df_closure_tod_wkday['Time_Of_Day']=='Morning')\n",
    "                                                   |(df_closure_tod_wkday['Time_Of_Day']=='Afternoon')]\n"
   ]
  },
  {
   "cell_type": "code",
   "execution_count": null,
   "metadata": {},
   "outputs": [],
   "source": [
    "\n",
    "df_closure_tod_wkday_school_non_sum=df_closure_tod_wkday_school[(df_closure_tod_wkday_school['Mon_Year']!='Jun-2020')\n",
    "                                                                       &(df_closure_tod_wkday_school['Mon_Year']!='Jul-2020')\n",
    "                                                                       &(df_closure_tod_wkday_school['Mon_Year']!='Aug-2020')\n",
    "                                                               &(df_closure_tod_wkday_school['Mon_Year']!='Jun-2019')\n",
    "                                                               &(df_closure_tod_wkday_school['Mon_Year']!='Jul-2019')\n",
    "                                                               &(df_closure_tod_wkday_school['Mon_Year']!='Aug-2019')\n",
    "                                                                &(df_closure_tod_wkday_school['Mon_Year']!='Jun-2021')\n",
    "                                                               &(df_closure_tod_wkday_school['Mon_Year']!='Jul-2021')\n",
    "                                                               &(df_closure_tod_wkday_school['Mon_Year']!='Aug-2021')]\n",
    "\n"
   ]
  },
  {
   "cell_type": "code",
   "execution_count": null,
   "metadata": {},
   "outputs": [],
   "source": [
    "df_closure_tod_wkday_school_non_sum['Daily_Sum_TOD']=df_closure_tod_wkday_school_non_sum.groupby(['Start_Time_Date_Offset_x', 'User UUID'])['Value_x'].transform('sum')\n",
    "\n",
    "\n",
    "df_closure_tod_wkday_school_non_sum['mean_monthly_steps_school']=df_closure_tod_wkday_school_non_sum.groupby([ 'User UUID','Month_Year_Name'])['Daily_Sum_TOD'].transform('mean')\n",
    "\n"
   ]
  },
  {
   "cell_type": "code",
   "execution_count": null,
   "metadata": {},
   "outputs": [],
   "source": [
    "df_closure_tod_wkday_school_non_sum_dup = df_closure_tod_wkday_school_non_sum.drop_duplicates(subset=['User UUID', 'mean_monthly_steps_school','Month_Year_Name'], keep='first')"
   ]
  },
  {
   "cell_type": "code",
   "execution_count": null,
   "metadata": {},
   "outputs": [],
   "source": [
    "#Min\n",
    "df_closure_tod_wkday_school_non_sum_dup.groupby('closure_status')['mean_monthly_steps_school'].min()\n"
   ]
  },
  {
   "cell_type": "code",
   "execution_count": null,
   "metadata": {},
   "outputs": [],
   "source": [
    "#Max\n",
    "df_closure_tod_wkday_school_non_sum_dup.groupby('closure_status')['mean_monthly_steps_school'].max()\n"
   ]
  },
  {
   "cell_type": "code",
   "execution_count": null,
   "metadata": {},
   "outputs": [],
   "source": [
    "\n",
    "#Mean\n",
    "df_closure_tod_wkday_school_non_sum_dup.groupby('closure_status')['mean_monthly_steps_school'].mean()"
   ]
  },
  {
   "cell_type": "code",
   "execution_count": null,
   "metadata": {},
   "outputs": [],
   "source": [
    "\n",
    "#Std\n",
    "df_closure_tod_wkday_school_non_sum_dup.groupby('closure_status')['mean_monthly_steps_school'].std()\n"
   ]
  },
  {
   "cell_type": "code",
   "execution_count": null,
   "metadata": {},
   "outputs": [],
   "source": [
    "\n",
    "#Users\n",
    "df_closure_tod_wkday_school_non_sum_dup.groupby('closure_status')['User UUID'].nunique()"
   ]
  },
  {
   "cell_type": "code",
   "execution_count": null,
   "metadata": {},
   "outputs": [],
   "source": [
    "sns.__version__"
   ]
  },
  {
   "cell_type": "code",
   "execution_count": null,
   "metadata": {},
   "outputs": [],
   "source": [
    "df_closure_tod_fig=df_closure_tod_wkday_school_non_sum_dup[df_closure_tod_wkday_school_non_sum_dup['closure_status']!='Post Closure']\n",
    "\n",
    "plt.figure(figsize=(100,40))\n",
    "sns.set_style(\"white\")\n",
    "palette = {\"Pre Closure\":\"mediumpurple\",\n",
    "            \"During Closure\":\"lightcoral\"\n",
    "           #2020:\"salmon\"\n",
    "           }\n",
    "ax = sns.boxplot(x=\"Month_Year_Name\",y=\"mean_monthly_steps_school\", palette=palette,hue='closure_status',\n",
    "                 data=df_closure_tod_fig, linewidth=14,\n",
    "                showfliers=False,\n",
    "            showmeans=True,dodge=False,width=0.5)\n",
    "ax.set_xticklabels(ax.get_xticklabels(), rotation=90)\n",
    "sns.set(font_scale =8)\n",
    "\n",
    "ax.set_xlabel('Month', fontdict= { 'fontsize':90, 'fontweight':'bold'} )\n",
    "ax.set_ylabel('Number of Steps', fontdict= { 'fontsize':90, 'fontweight':'bold'} )\n",
    "\n",
    "ax.set_title('Average Daily Step Count Values for Participants Before and After Lockdown During School Times', \n",
    "                  fontdict= { 'fontsize':90, 'fontweight':'bold'}, y =1.05)\n",
    "plt.legend(bbox_to_anchor=(1.04,0.5), loc=\"center left\", borderaxespad=0,frameon=True,edgecolor='black'\n",
    "           ,title='Pandemic Status',framealpha=0.5)"
   ]
  },
  {
   "cell_type": "code",
   "execution_count": null,
   "metadata": {},
   "outputs": [],
   "source": [
    "\n",
    "df_closure_tod_fig=df_closure_tod_wkday_school_non_sum_dup[df_closure_tod_wkday_school_non_sum_dup['closure_status']!='Post Closure']\n",
    "fig_2_df_closure_tod=df_closure_tod_fig\n",
    "\n",
    "fig_2_df_closure_tod['Month_Year_Name_Closure']=fig_2_df_closure_tod['Month_Year_Name'].str[0:3]\n",
    "fig_2_df_closure_tod.loc[(fig_2_df_closure_tod['Month_Year_Name']=='1-14 Mar-2020'), 'Month_Year_Name_Closure']='Mar'\n",
    "fig_2_df_closure_tod.loc[(fig_2_df_closure_tod['Month_Year_Name']=='15-31 Mar-2020'), 'Month_Year_Name_Closure']='Mar'\n",
    "fig_2_df_closure_tod['month_only'] = pd.Categorical(fig_2_df_closure_tod['Month_Year_Name_Closure'],\n",
    "                                   categories=['Jan', 'Feb','Mar', 'Apr', 'May', 'Sep', 'Oct', 'Nov', 'Dec'],ordered=True)\n",
    "\n"
   ]
  },
  {
   "cell_type": "code",
   "execution_count": null,
   "metadata": {},
   "outputs": [],
   "source": [
    "\n",
    "plt.figure(figsize=(100,40))\n",
    "sns.set_style(\"white\")\n",
    "palette = {\"Pre Closure\":\"mediumpurple\",\n",
    "            \"During Closure\":\"lightcoral\"\n",
    "           }\n",
    "ax = sns.boxplot(x=\"month_only\",y=\"mean_monthly_steps_school\", palette=palette,hue='closure_status',\n",
    "                 data=fig_2_df_closure_tod, linewidth=14,\n",
    "                showfliers=False,\n",
    "            showmeans=False,width=0.5)\n",
    "\n",
    "ax.set_xticklabels(ax.get_xticklabels(), rotation=90)\n",
    "sns.set(font_scale =8)\n",
    "\n",
    "ax.set_xlabel('Month', fontdict= { 'fontsize':90, 'fontweight':'bold'} )\n",
    "ax.set_ylabel('Number of Steps', fontdict= { 'fontsize':90, 'fontweight':'bold'} )\n",
    "\n",
    "ax.set_title('Average Daily Step Count Values for Participants Before and After Lockdown During School Times', \n",
    "                  fontdict= { 'fontsize':90, 'fontweight':'bold'}, y =1.05)\n",
    "plt.legend(bbox_to_anchor=(1.04,0.5), loc=\"center left\", borderaxespad=0,frameon=True,edgecolor='black'\n",
    "           ,title='Pandemic Status',framealpha=0.5)"
   ]
  },
  {
   "cell_type": "code",
   "execution_count": null,
   "metadata": {},
   "outputs": [],
   "source": [
    "#New one value per month\n",
    "\n",
    "df_closure_tod_wkday_school_non_sum_dup_month=df_closure_tod_wkday_school_non_sum_dup\n",
    "\n",
    "df_closure_tod_wkday_school_non_sum_dup_month['mean_monthly_steps_school_per_month']=df_closure_tod_wkday_school_non_sum_dup_month.groupby(['Month_Year_Name'])['mean_monthly_steps_school'].transform('mean')\n",
    "\n",
    "\n",
    "\n",
    "df_closure_tod_wkday_school_non_sum_dup_month_dup = df_closure_tod_wkday_school_non_sum_dup_month.drop_duplicates(subset=['mean_monthly_steps_school_per_month','Month_Year_Name'], keep='first')"
   ]
  },
  {
   "cell_type": "code",
   "execution_count": null,
   "metadata": {},
   "outputs": [],
   "source": [
    "#Min\n",
    "df_closure_tod_wkday_school_non_sum_dup_month_dup.groupby('closure_status')['mean_monthly_steps_school_per_month'].min()\n"
   ]
  },
  {
   "cell_type": "code",
   "execution_count": null,
   "metadata": {},
   "outputs": [],
   "source": [
    "#Max\n",
    "df_closure_tod_wkday_school_non_sum_dup_month_dup.groupby('closure_status')['mean_monthly_steps_school_per_month'].max()\n"
   ]
  },
  {
   "cell_type": "code",
   "execution_count": null,
   "metadata": {},
   "outputs": [],
   "source": [
    "\n",
    "#Mean\n",
    "df_closure_tod_wkday_school_non_sum_dup_month_dup.groupby('closure_status')['mean_monthly_steps_school_per_month'].mean()"
   ]
  },
  {
   "cell_type": "code",
   "execution_count": null,
   "metadata": {},
   "outputs": [],
   "source": [
    "\n",
    "#Std\n",
    "df_closure_tod_wkday_school_non_sum_dup_month_dup.groupby('closure_status')['mean_monthly_steps_school_per_month'].std()\n"
   ]
  },
  {
   "cell_type": "code",
   "execution_count": null,
   "metadata": {},
   "outputs": [],
   "source": [
    "\n",
    "#Users\n",
    "df_closure_tod_wkday_school_non_sum_dup_month_dup.groupby('closure_status')['User UUID'].nunique()"
   ]
  },
  {
   "cell_type": "code",
   "execution_count": null,
   "metadata": {},
   "outputs": [],
   "source": [
    "#statistical analysis for in-school non-summer months"
   ]
  },
  {
   "cell_type": "code",
   "execution_count": null,
   "metadata": {},
   "outputs": [],
   "source": [
    "#Statistical test\n",
    "\n",
    "steps_pre_closure_wkday_school_non_sum=df_closure_tod_wkday_school_non_sum_dup[df_closure_tod_wkday_school_non_sum_dup['closure_status']=='Pre Closure']\n",
    "\n",
    "steps_pre_closure_wkday_school_non_sum['Monthly_Avg']=steps_pre_closure_wkday_school_non_sum.groupby(['Month_Year_Name'])['mean_monthly_steps_school'].transform('mean')\n",
    "\n",
    "steps_pre_closure_wkday_school_non_sum['month_num']=steps_pre_closure_wkday_school_non_sum['Start_Time_Offset'].dt.month\n",
    "\n",
    "steps_pre_closure_wkday_school_non_sum=steps_pre_closure_wkday_school_non_sum.sort_values(by=['month_num'])\n",
    "steps_pre_closure_wkday_school_non_sum\n",
    "\n",
    "steps_pre_closure_wkday_school_non_sum_col=steps_pre_closure_wkday_school_non_sum[['Month_Year_Name','Monthly_Avg']]\n",
    "steps_pre_closure_wkday_school_non_sum_col_dup = steps_pre_closure_wkday_school_non_sum_col.drop_duplicates(subset=['Monthly_Avg', 'Month_Year_Name'], keep='first')\n",
    "steps_pre_closure_wkday_school_non_sum_col_dup"
   ]
  },
  {
   "cell_type": "code",
   "execution_count": null,
   "metadata": {},
   "outputs": [],
   "source": [
    "steps_dur_closure_wkday_school_non_sum=df_closure_tod_wkday_school_non_sum_dup[df_closure_tod_wkday_school_non_sum_dup['closure_status']=='During Closure']\n",
    "\n",
    "steps_dur_closure_wkday_school_non_sum['Monthly_Avg']=steps_dur_closure_wkday_school_non_sum.groupby(['Month_Year_Name'])['mean_monthly_steps_school'].transform('mean')\n",
    "\n",
    "steps_dur_closure_wkday_school_non_sum['month_num']=steps_dur_closure_wkday_school_non_sum['Start_Time_Offset'].dt.month\n",
    "\n",
    "steps_dur_closure_wkday_school_non_sum=steps_dur_closure_wkday_school_non_sum.sort_values(by=['month_num'])\n",
    "steps_dur_closure_wkday_school_non_sum\n",
    "\n",
    "steps_dur_closure_wkday_school_non_sum_col=steps_dur_closure_wkday_school_non_sum[['Month_Year_Name','Monthly_Avg']]\n",
    "steps_dur_closure_wkday_school_non_sum_col_dup = steps_dur_closure_wkday_school_non_sum_col.drop_duplicates(subset=['Monthly_Avg', 'Month_Year_Name'], keep='first')\n",
    "steps_dur_closure_wkday_school_non_sum_col_dup"
   ]
  },
  {
   "cell_type": "code",
   "execution_count": null,
   "metadata": {},
   "outputs": [],
   "source": [
    "from scipy.stats import mannwhitneyu\n",
    "U1, p = mannwhitneyu(steps_dur_closure_wkday_school_non_sum_col_dup['Monthly_Avg'], steps_pre_closure_wkday_school_non_sum_col_dup['Monthly_Avg'])\n",
    "print(U1)\n",
    "print(p*100)\n",
    "\n",
    "print(p)"
   ]
  },
  {
   "cell_type": "code",
   "execution_count": null,
   "metadata": {},
   "outputs": [],
   "source": [
    "#Statistical test (exact copy of previous test-redundant; made changes to the code cells above)\n",
    "\n",
    "steps_pre_closure=df_valid_days_daycount_dup[df_valid_days_daycount_dup['closure_status']=='Pre Closure']\n",
    "\n",
    "steps_pre_closure['Monthly_Avg']=steps_pre_closure.groupby(['Month_Year_Name'])['Average_Monthly_Steps_Lockdown_post_missing'].transform('mean')\n",
    "\n",
    "steps_pre_closure['month_num']=steps_pre_closure['Start_Time_Offset'].dt.month\n",
    "#steps_pre['month_num'].unique()\n",
    "steps_pre_closure=steps_pre_closure.sort_values(by=['month_num'])\n",
    "steps_pre_closure\n",
    "\n",
    "steps_pre_closure_col=steps_pre_closure[['Month_Year_Name','Monthly_Avg']]\n",
    "steps_pre_closure_dup = steps_pre_closure_col.drop_duplicates(subset=['Monthly_Avg', 'Month_Year_Name'], keep='first')\n",
    "steps_pre_closure_dup\n",
    "\n",
    "steps_dur_closure=df_valid_days_daycount_dup[df_valid_days_daycount_dup['closure_status']=='During Closure']\n",
    "\n",
    "steps_dur_closure['Monthly_Avg']=steps_dur_closure.groupby(['Month_Year_Name'])['Average_Monthly_Steps_Lockdown_post_missing'].transform('mean')\n",
    "\n",
    "steps_dur_closure['month_num']=steps_dur_closure['Start_Time_Offset'].dt.month\n",
    "#steps_pre['month_num'].unique()\n",
    "steps_dur_closure=steps_dur_closure.sort_values(by=['month_num'])\n",
    "steps_dur_closure\n",
    "\n",
    "steps_dur_closure_col=steps_dur_closure[['Month_Year_Name','Monthly_Avg']]\n",
    "steps_dur_closure_dup = steps_dur_closure_col.drop_duplicates(subset=['Monthly_Avg', 'Month_Year_Name'], keep='first')\n",
    "steps_dur_closure_dup\n",
    "\n",
    "from scipy.stats import mannwhitneyu\n",
    "U1, p = mannwhitneyu(steps_dur_closure_dup['Monthly_Avg'], steps_pre_closure_dup['Monthly_Avg'])\n",
    "print(U1)\n",
    "print(p*100)\n",
    "\n",
    "print(p)"
   ]
  },
  {
   "cell_type": "code",
   "execution_count": null,
   "metadata": {},
   "outputs": [],
   "source": [
    "#Summer months weekday steps analysis (pre-, during-, and post-closure)"
   ]
  },
  {
   "cell_type": "code",
   "execution_count": null,
   "metadata": {},
   "outputs": [],
   "source": [
    "df_closure_tod_wkday_school_only=df_closure_tod_wkday_school"
   ]
  },
  {
   "cell_type": "code",
   "execution_count": null,
   "metadata": {},
   "outputs": [],
   "source": [
    "\n",
    "df_closure_tod_wkday_school_only_sum=df_closure_tod_wkday_school[(df_closure_tod_wkday_school['Mon_Year']=='Jun-2020')\n",
    "                                                                       |(df_closure_tod_wkday_school['Mon_Year']=='Jul-2020')\n",
    "                                                                       |(df_closure_tod_wkday_school['Mon_Year']=='Aug-2020')\n",
    "                                                               |(df_closure_tod_wkday_school['Mon_Year']=='Jun-2019')\n",
    "                                                               |(df_closure_tod_wkday_school['Mon_Year']=='Jul-2019')\n",
    "                                                               |(df_closure_tod_wkday_school['Mon_Year']=='Aug-2019')\n",
    "                                                                |(df_closure_tod_wkday_school['Mon_Year']=='Jun-2021')\n",
    "                                                               |(df_closure_tod_wkday_school['Mon_Year']=='Jul-2021')\n",
    "                                                               |(df_closure_tod_wkday_school['Mon_Year']=='Aug-2021')]\n"
   ]
  },
  {
   "cell_type": "code",
   "execution_count": null,
   "metadata": {},
   "outputs": [],
   "source": [
    "df_closure_tod_wkday_school_only_sum['Daily_Sum_TOD']=df_closure_tod_wkday_school_only_sum.groupby(['Start_Time_Date_Offset_x', 'User UUID'])['Value_x'].transform('sum')\n",
    "\n",
    "\n",
    "df_closure_tod_wkday_school_only_sum['mean_monthly_steps_school_sum']=df_closure_tod_wkday_school_only_sum.groupby([ 'User UUID','Month_Year_Name'])['Daily_Sum_TOD'].transform('mean')\n",
    "\n"
   ]
  },
  {
   "cell_type": "code",
   "execution_count": null,
   "metadata": {},
   "outputs": [],
   "source": [
    "df_closure_tod_wkday_school_only_sum_dup = df_closure_tod_wkday_school_only_sum.drop_duplicates(subset=['User UUID', 'mean_monthly_steps_school_sum','Month_Year_Name'], keep='first')\n",
    "df_closure_tod_wkday_school_only_sum_dup"
   ]
  },
  {
   "cell_type": "code",
   "execution_count": null,
   "metadata": {},
   "outputs": [],
   "source": [
    "#Min\n",
    "df_closure_tod_wkday_school_only_sum_dup.groupby('closure_status')['mean_monthly_steps_school_sum'].min()\n"
   ]
  },
  {
   "cell_type": "code",
   "execution_count": null,
   "metadata": {},
   "outputs": [],
   "source": [
    "#Max\n",
    "df_closure_tod_wkday_school_only_sum_dup.groupby('closure_status')['mean_monthly_steps_school_sum'].max()\n"
   ]
  },
  {
   "cell_type": "code",
   "execution_count": null,
   "metadata": {},
   "outputs": [],
   "source": [
    "\n",
    "#Mean\n",
    "df_closure_tod_wkday_school_only_sum_dup.groupby('closure_status')['mean_monthly_steps_school_sum'].mean()"
   ]
  },
  {
   "cell_type": "code",
   "execution_count": null,
   "metadata": {},
   "outputs": [],
   "source": [
    "\n",
    "#Std\n",
    "df_closure_tod_wkday_school_only_sum_dup.groupby('closure_status')['mean_monthly_steps_school_sum'].std()\n"
   ]
  },
  {
   "cell_type": "code",
   "execution_count": null,
   "metadata": {},
   "outputs": [],
   "source": [
    "\n",
    "#Users\n",
    "df_closure_tod_wkday_school_only_sum_dup.groupby('closure_status')['User UUID'].nunique()"
   ]
  },
  {
   "cell_type": "code",
   "execution_count": null,
   "metadata": {},
   "outputs": [],
   "source": [
    "df_closure_tod_wkday_school_only_sum_dup_fig=df_closure_tod_wkday_school_only_sum_dup[df_closure_tod_wkday_school_only_sum_dup['closure_status']!='Post Closure']\n",
    "\n",
    "plt.figure(figsize=(100,40))\n",
    "sns.set_style(\"white\")\n",
    "palette = {\"Pre Closure\":\"mediumpurple\",\n",
    "            \"During Closure\":\"lightcoral\"\n",
    "           #2020:\"salmon\"\n",
    "           }\n",
    "ax = sns.boxplot(x=\"Month_Year_Name\",y=\"mean_monthly_steps_school_sum\", palette=palette,hue='closure_status',\n",
    "                 data=df_closure_tod_wkday_school_only_sum_dup_fig, linewidth=14,\n",
    "                showfliers=False,\n",
    "            showmeans=True,dodge=False,width=0.5)\n",
    "ax.set_xticklabels(ax.get_xticklabels(), rotation=90)\n",
    "#ax.set_title('Average Step values for Participants Before and After Lockdown For School Times')\n",
    "#ax.set(xlabel='Month', ylabel='Number of Steps')\n",
    "sns.set(font_scale =8)\n",
    "\n",
    "ax.set_xlabel('Month', fontdict= { 'fontsize':90, 'fontweight':'bold'} )\n",
    "ax.set_ylabel('Number of Steps', fontdict= { 'fontsize':90, 'fontweight':'bold'} )\n",
    "\n",
    "ax.set_title('Average Daily Step Count Values for Participants Before and After Lockdown During School Times', \n",
    "                  fontdict= { 'fontsize':90, 'fontweight':'bold'}, y =1.05)\n",
    "plt.legend(bbox_to_anchor=(1.04,0.5), loc=\"center left\", borderaxespad=0,frameon=True,edgecolor='black'\n",
    "           ,title='Pandemic Status',framealpha=0.5)"
   ]
  },
  {
   "cell_type": "code",
   "execution_count": null,
   "metadata": {},
   "outputs": [],
   "source": [
    "\n",
    "df_closure_tod_wkday_school_only_sum_dup_fig=df_closure_tod_wkday_school_only_sum_dup[df_closure_tod_wkday_school_only_sum_dup['closure_status']!='Post Closure']\n",
    "fig_3_df_closure_tod=df_closure_tod_wkday_school_only_sum_dup_fig\n",
    "\n",
    "fig_3_df_closure_tod['Month_Year_Name_Closure']=fig_3_df_closure_tod['Month_Year_Name'].str[0:3]\n",
    "fig_3_df_closure_tod['month_only'] = pd.Categorical(fig_3_df_closure_tod['Month_Year_Name_Closure'],\n",
    "                                   categories=['Jun', 'Jul', 'Aug'],ordered=True)\n",
    "\n"
   ]
  },
  {
   "cell_type": "code",
   "execution_count": null,
   "metadata": {},
   "outputs": [],
   "source": [
    "\n",
    "plt.figure(figsize=(100,40))\n",
    "sns.set_style(\"white\")\n",
    "palette = {\"Pre Closure\":\"yellowgreen\",\n",
    "            \"During Closure\":\"lightsalmon\"\n",
    "           #2020:\"salmon\"\n",
    "           }\n",
    "ax = sns.boxplot(x=\"month_only\",y=\"mean_monthly_steps_school_sum\", palette=palette,hue='closure_status',\n",
    "                 data=fig_3_df_closure_tod, linewidth=14,\n",
    "                showfliers=False,\n",
    "            showmeans=False,width=0.5)\n",
    "\n",
    "ax.set_xticklabels(ax.get_xticklabels(), rotation=90)\n",
    "#ax.set_title('Average Step values for Participants Before and After Lockdown For School Times')\n",
    "#ax.set(xlabel='Month', ylabel='Number of Steps')\n",
    "sns.set(font_scale =8)\n",
    "\n",
    "ax.set_xlabel('Month', fontdict= { 'fontsize':90, 'fontweight':'bold'} )\n",
    "ax.set_ylabel('Number of Steps', fontdict= { 'fontsize':90, 'fontweight':'bold'} )\n",
    "\n",
    "ax.set_title('Average Daily Step Count Values for Participants Before and After Lockdown During School Times', \n",
    "                  fontdict= { 'fontsize':90, 'fontweight':'bold'}, y =1.05)\n",
    "plt.legend(bbox_to_anchor=(1.04,0.5), loc=\"center left\", borderaxespad=0,frameon=True,edgecolor='black'\n",
    "           ,title='Pandemic Status',framealpha=0.5)"
   ]
  },
  {
   "cell_type": "code",
   "execution_count": null,
   "metadata": {},
   "outputs": [],
   "source": [
    "#New one value per month\n",
    "\n",
    "df_closure_tod_wkday_school_only_sum_dup_month=df_closure_tod_wkday_school_only_sum_dup\n",
    "\n",
    "df_closure_tod_wkday_school_only_sum_dup_month['mean_monthly_steps_school_sum_per_month']=df_closure_tod_wkday_school_only_sum_dup_month.groupby(['Month_Year_Name'])['mean_monthly_steps_school_sum'].transform('mean')\n",
    "\n",
    "\n",
    "\n",
    "df_closure_tod_wkday_school_only_sum_dup_month_dup = df_closure_tod_wkday_school_only_sum_dup_month.drop_duplicates(subset=['mean_monthly_steps_school_sum_per_month','Month_Year_Name'], keep='first')\n",
    "df_closure_tod_wkday_school_only_sum_dup_month_dup"
   ]
  },
  {
   "cell_type": "code",
   "execution_count": null,
   "metadata": {},
   "outputs": [],
   "source": [
    "#Min\n",
    "df_closure_tod_wkday_school_only_sum_dup_month_dup.groupby('closure_status')['mean_monthly_steps_school_sum_per_month'].min()\n"
   ]
  },
  {
   "cell_type": "code",
   "execution_count": null,
   "metadata": {},
   "outputs": [],
   "source": [
    "#Max\n",
    "df_closure_tod_wkday_school_only_sum_dup_month_dup.groupby('closure_status')['mean_monthly_steps_school_sum_per_month'].max()\n"
   ]
  },
  {
   "cell_type": "code",
   "execution_count": null,
   "metadata": {},
   "outputs": [],
   "source": [
    "\n",
    "#Mean\n",
    "df_closure_tod_wkday_school_only_sum_dup_month_dup.groupby('closure_status')['mean_monthly_steps_school_sum_per_month'].mean()"
   ]
  },
  {
   "cell_type": "code",
   "execution_count": null,
   "metadata": {},
   "outputs": [],
   "source": [
    "\n",
    "#Std\n",
    "df_closure_tod_wkday_school_only_sum_dup_month_dup.groupby('closure_status')['mean_monthly_steps_school_sum_per_month'].std()\n"
   ]
  },
  {
   "cell_type": "code",
   "execution_count": null,
   "metadata": {},
   "outputs": [],
   "source": [
    "\n",
    "#Users\n",
    "df_closure_tod_wkday_school_only_sum_dup_month_dup.groupby('closure_status')['User UUID'].nunique()"
   ]
  },
  {
   "cell_type": "code",
   "execution_count": null,
   "metadata": {},
   "outputs": [],
   "source": [
    "#Statistical test for summer weekdays pre and post closure"
   ]
  },
  {
   "cell_type": "code",
   "execution_count": null,
   "metadata": {},
   "outputs": [],
   "source": [
    "df_closure_tod_wkday_school_only_sum_dup"
   ]
  },
  {
   "cell_type": "code",
   "execution_count": null,
   "metadata": {},
   "outputs": [],
   "source": [
    "#Statistical test\n",
    "\n",
    "steps_pre_closure_wkday_school_only_sum=df_closure_tod_wkday_school_only_sum_dup[df_closure_tod_wkday_school_only_sum_dup['closure_status']=='Pre Closure']\n",
    "\n",
    "steps_pre_closure_wkday_school_only_sum['Monthly_Avg']=steps_pre_closure_wkday_school_only_sum.groupby(['Month_Year_Name'])['mean_monthly_steps_school_sum'].transform('mean')\n",
    "\n",
    "steps_pre_closure_wkday_school_only_sum['month_num']=steps_pre_closure_wkday_school_only_sum['Start_Time_Offset'].dt.month\n",
    "\n",
    "steps_pre_closure_wkday_school_only_sum=steps_pre_closure_wkday_school_only_sum.sort_values(by=['month_num'])\n",
    "\n",
    "\n",
    "steps_pre_closure_wkday_school_only_sum_col=steps_pre_closure_wkday_school_only_sum[['Month_Year_Name','Monthly_Avg']]\n",
    "steps_pre_closure_wkday_school_only_sum_col_dup = steps_pre_closure_wkday_school_only_sum_col.drop_duplicates(subset=['Monthly_Avg', 'Month_Year_Name'], keep='first')\n",
    "steps_pre_closure_wkday_school_only_sum_col_dup"
   ]
  },
  {
   "cell_type": "code",
   "execution_count": null,
   "metadata": {},
   "outputs": [],
   "source": [
    "steps_dur_closure_wkday_school_only_sum=df_closure_tod_wkday_school_only_sum_dup[df_closure_tod_wkday_school_only_sum_dup['closure_status']=='During Closure']\n",
    "\n",
    "steps_dur_closure_wkday_school_only_sum['Monthly_Avg']=steps_dur_closure_wkday_school_only_sum.groupby(['Month_Year_Name'])['mean_monthly_steps_school_sum'].transform('mean')\n",
    "\n",
    "steps_dur_closure_wkday_school_only_sum['month_num']=steps_dur_closure_wkday_school_only_sum['Start_Time_Offset'].dt.month\n",
    "\n",
    "steps_dur_closure_wkday_school_only_sum=steps_dur_closure_wkday_school_only_sum.sort_values(by=['month_num'])\n",
    "steps_dur_closure_wkday_school_only_sum\n",
    "\n",
    "steps_dur_closure_wkday_school_only_sum_col=steps_dur_closure_wkday_school_only_sum[['Month_Year_Name','Monthly_Avg']]\n",
    "steps_dur_closure_wkday_school_only_sum_col_dup = steps_dur_closure_wkday_school_only_sum_col.drop_duplicates(subset=['Monthly_Avg', 'Month_Year_Name'], keep='first')\n",
    "steps_dur_closure_wkday_school_only_sum_col_dup"
   ]
  },
  {
   "cell_type": "code",
   "execution_count": null,
   "metadata": {},
   "outputs": [],
   "source": [
    "from scipy.stats import mannwhitneyu\n",
    "U1, p = mannwhitneyu(steps_dur_closure_wkday_school_only_sum_col_dup['Monthly_Avg'], steps_pre_closure_wkday_school_only_sum_col_dup['Monthly_Avg'])\n",
    "print(U1)\n",
    "print(p*100)\n",
    "\n",
    "print(p)"
   ]
  },
  {
   "cell_type": "code",
   "execution_count": null,
   "metadata": {},
   "outputs": [],
   "source": [
    "#Sleep"
   ]
  },
  {
   "cell_type": "code",
   "execution_count": null,
   "metadata": {},
   "outputs": [],
   "source": [
    "df_sleep=df[df['Type']=='sleepDuration']\n",
    "len(df_sleep)"
   ]
  },
  {
   "cell_type": "code",
   "execution_count": null,
   "metadata": {},
   "outputs": [],
   "source": [
    "df_sleep['User UUID'].nunique()"
   ]
  },
  {
   "cell_type": "code",
   "execution_count": null,
   "metadata": {},
   "outputs": [],
   "source": [
    "steps_user_id_list=df_valid_days_daycount['User UUID'].unique()"
   ]
  },
  {
   "cell_type": "code",
   "execution_count": null,
   "metadata": {},
   "outputs": [],
   "source": [
    "df_sleep_step_ids=df_sleep[df_sleep['User UUID'].isin(steps_user_id_list)]\n",
    "df_sleep_step_ids"
   ]
  },
  {
   "cell_type": "code",
   "execution_count": null,
   "metadata": {},
   "outputs": [],
   "source": [
    "df_sleep_step_ids['Start Time']=df_sleep_step_ids['Start Time'].apply(pd.to_datetime)\n",
    "\n",
    "df_sleep_step_ids['End Time']=df_sleep_step_ids['End Time'].apply(pd.to_datetime)\n",
    "\n",
    "df_sleep_step_ids['Start_Time_Offset']=df_sleep_step_ids['Start Time']+ pd.to_timedelta(df_sleep_step_ids['Time Zone Offset'], unit='s')\n",
    "df_sleep_step_ids['End_Time_Offset']=df_sleep_step_ids['End Time']+ pd.to_timedelta(df_sleep_step_ids['Time Zone Offset'], unit='s')\n",
    "\n",
    "df_sleep_step_ids['Start_Time_Date_Offset'] = df_sleep_step_ids['Start_Time_Offset'].dt.date\n",
    "df_sleep_step_ids['End_Time_Date_Offset'] = df_sleep_step_ids['End_Time_Offset'].dt.date\n",
    "df_sleep_step_ids['month_year'] = df_sleep_step_ids['Start_Time_Offset'].dt.to_period('M')\n",
    "\n",
    "df_sleep_step_ids['Mon_Year'] = df_sleep_step_ids['Start_Time_Offset'].dt.strftime('%b-%Y')\n",
    "df_sleep_step_ids['Month_Year_Name']=df_sleep_step_ids['Mon_Year']"
   ]
  },
  {
   "cell_type": "code",
   "execution_count": null,
   "metadata": {},
   "outputs": [],
   "source": [
    "df_sleep_copy=df_sleep_step_ids\n",
    "\n",
    "df_sleep_copy_dup = df_sleep_copy.drop_duplicates(subset=['User UUID', 'Start Time','End Time','Value'], keep='first')\n"
   ]
  },
  {
   "cell_type": "code",
   "execution_count": null,
   "metadata": {},
   "outputs": [],
   "source": [
    "df_sleep_copy_dup['year_only'] = df_sleep_copy_dup['Start_Time_Offset'].dt.year\n",
    "df_sleep_copy_dup['month_only'] = df_sleep_copy_dup['Start_Time_Offset'].dt.strftime(\"%B\")\n",
    "df_sleep_copy_dup=df_sleep_copy_dup.sort_values(by=['Start_Time_Offset'])\n",
    "df_sleep_copy_dup['Start Time Only Time']=df_sleep_copy_dup['Start_Time_Offset'].dt.strftime(\"%H:%M:%S\")"
   ]
  },
  {
   "cell_type": "code",
   "execution_count": null,
   "metadata": {},
   "outputs": [],
   "source": [
    "#convert to datetime format to calculate bedtime date\n",
    "df_sleep_copy_dup['Start Time Only Time Datetime']=df_sleep_copy_dup['Start Time Only Time'].apply(pd.to_datetime)"
   ]
  },
  {
   "cell_type": "code",
   "execution_count": null,
   "metadata": {},
   "outputs": [],
   "source": [
    "df_sleep_copy_dup['Start Time Only Time Datetime'].dt.date.unique()"
   ]
  },
  {
   "cell_type": "code",
   "execution_count": null,
   "metadata": {},
   "outputs": [],
   "source": [
    "#Get only nighttime values\n",
    "#change to today's date\n",
    "df_sleep_bedtime_calc_allnight= df_sleep_copy_dup[(df_sleep_copy_dup['Start Time Only Time Datetime']>dt.datetime(2023, 6, 27, 18, 0, 0))|\n",
    "                                         (df_sleep_copy_dup['Start Time Only Time Datetime']<dt.datetime(2023, 6, 27, 8, 0, 0))]"
   ]
  },
  {
   "cell_type": "code",
   "execution_count": null,
   "metadata": {},
   "outputs": [],
   "source": [
    "df_sleep_bedtime_calc_allnight['Start Time Only Time Datetime'].dt.date.unique()"
   ]
  },
  {
   "cell_type": "code",
   "execution_count": null,
   "metadata": {},
   "outputs": [],
   "source": [
    "df_sleep_bedtime_calc_allnight['Start Time Only Time Datetime']=df_sleep_bedtime_calc_allnight['Start Time Only Time'].apply(pd.to_datetime)"
   ]
  },
  {
   "cell_type": "code",
   "execution_count": null,
   "metadata": {},
   "outputs": [],
   "source": [
    "from datetime import timedelta"
   ]
  },
  {
   "cell_type": "code",
   "execution_count": null,
   "metadata": {},
   "outputs": [],
   "source": [
    "df_sleep_bedtime_calc_allnight_val=df_sleep_bedtime_calc_allnight\n",
    "\n",
    "#change according to today's date\n",
    "df_sleep_bedtime_calc_allnight_val.loc[(df_sleep_bedtime_calc_allnight_val['Start Time Only Time Datetime']>dt.datetime(2023, 6, 27, 18, 0, 0)), 'Bedtime_Date'] = df_sleep_bedtime_calc_allnight_val['Start_Time_Date_Offset']\n",
    "\n",
    "df_sleep_bedtime_calc_allnight_val.loc[(df_sleep_bedtime_calc_allnight_val['Start Time Only Time Datetime']<dt.datetime(2023, 6, 27, 8, 0, 0)), 'Bedtime_Date'] = df_sleep_bedtime_calc_allnight_val['Start_Time_Date_Offset'] - timedelta(days=1)"
   ]
  },
  {
   "cell_type": "code",
   "execution_count": null,
   "metadata": {},
   "outputs": [],
   "source": [
    "df_sleep_bedtime_calc_allnight_val['Start_Time_Offset_dt']=pd.to_datetime(df_sleep_bedtime_calc_allnight_val['Start_Time_Offset'])\n",
    "\n",
    "df_sleep_bedtime_calc_allnight_val['End_Time_Offset_dt']=pd.to_datetime(df_sleep_bedtime_calc_allnight_val['End_Time_Offset'])\n"
   ]
  },
  {
   "cell_type": "code",
   "execution_count": null,
   "metadata": {},
   "outputs": [],
   "source": [
    "df_sleep_bedtime_calc_allnight_val['Start_Time_Offset_dt_iso']=df_sleep_bedtime_calc_allnight_val['Start_Time_Offset_dt'].astype('int64')//1e9\n",
    "\n",
    "df_sleep_bedtime_calc_allnight_val['End_Time_Offset_dt_iso']=df_sleep_bedtime_calc_allnight_val['End_Time_Offset_dt'].astype('int64')//1e9\n",
    "\n",
    "df_sleep_bedtime_calc_allnight_val['Bedtime_Min_iso'] = df_sleep_bedtime_calc_allnight_val.groupby([ 'User UUID','Bedtime_Date'])['Start_Time_Offset_dt_iso'].transform('min')\n",
    "\n",
    "df_sleep_bedtime_calc_allnight_val['Waketime_Max_iso'] = df_sleep_bedtime_calc_allnight_val.groupby([ 'User UUID','Bedtime_Date'])['End_Time_Offset_dt_iso'].transform('max')\n",
    "\n",
    "df_sleep_bedtime_calc_allnight_val['Bedtime_Min_iso_int_converted']=pd.to_datetime(df_sleep_bedtime_calc_allnight_val['Bedtime_Min_iso'], unit='s')\n",
    "\n",
    "df_sleep_bedtime_calc_allnight_val['Waketime_Max_iso_int_converted']=pd.to_datetime(df_sleep_bedtime_calc_allnight_val['Waketime_Max_iso'], unit='s')\n",
    "\n",
    "df_sleep_bedtime_calc_allnight_val['Bedtime_Min_iso_int_converted_dt']=df_sleep_bedtime_calc_allnight_val['Bedtime_Min_iso_int_converted'].apply(pd.to_datetime)\n",
    "\n",
    "df_sleep_bedtime_calc_allnight_val['Waketime_Max_iso_int_converted_dt']=df_sleep_bedtime_calc_allnight_val['Waketime_Max_iso_int_converted'].apply(pd.to_datetime)\n",
    "\n",
    "df_sleep_bedtime_calc_allnight_val[['Bedtime_Min_iso_int_converted','Start_Time_Offset_dt_iso','Start Time Only Time','Start Time']]\n",
    "\n",
    "df_sleep_bedtime_calc_allnight_val[['Waketime_Max_iso_int_converted_dt','End_Time_Offset_dt_iso','Start Time Only Time','End Time']]\n",
    "\n",
    "df_sleep_bedtime_calc_allnight_val['Bedtime_Min_iso_int_converted_time']=df_sleep_bedtime_calc_allnight_val['Bedtime_Min_iso_int_converted'].dt.strftime(\"%H:%M:%S\")\n",
    "\n",
    "\n",
    "df_sleep_bedtime_calc_allnight_val['Waketime_Max_iso_int_converted_time']=df_sleep_bedtime_calc_allnight_val['Waketime_Max_iso_int_converted'].dt.strftime(\"%H:%M:%S\")"
   ]
  },
  {
   "cell_type": "code",
   "execution_count": null,
   "metadata": {},
   "outputs": [],
   "source": [
    "from cmath import rect, phase\n",
    "from math import radians, degrees\n",
    "\n",
    "def meanAngle(deg):\n",
    "    complexDegree = sum(rect(1, radians(d)) for d in deg) / len(deg)\n",
    "    argument = phase(complexDegree)\n",
    "    meanAngle = degrees(argument)\n",
    "    return meanAngle\n",
    "\n",
    "def meanTime(times):\n",
    "    t = (time.split(':') for time in times)\n",
    "    seconds = ((float(s) + int(m) * 60 + int(h) * 3600) \n",
    "               for h, m, s in t)\n",
    "    day = 24 * 60 * 60\n",
    "    toAngles = [s * 360. / day for s in seconds]\n",
    "    meanAsAngle = meanAngle(toAngles)\n",
    "    meanSeconds = meanAsAngle * day / 360.\n",
    "    if meanSeconds < 0:\n",
    "        meanSeconds += day\n",
    "    h, m = divmod(meanSeconds, 3600)\n",
    "    m, s = divmod(m, 60)\n",
    "    return('%02i:%02i:%02i' % (h, m, s))"
   ]
  },
  {
   "cell_type": "code",
   "execution_count": null,
   "metadata": {},
   "outputs": [],
   "source": [
    "df_sleep_bedtime_calc_allnight_val_copy=df_sleep_bedtime_calc_allnight_val"
   ]
  },
  {
   "cell_type": "code",
   "execution_count": null,
   "metadata": {},
   "outputs": [],
   "source": [
    "#get month from bedtime\n",
    "df_sleep_bedtime_calc_allnight_val_copy['Bedtime_Date_month_year']=pd.to_datetime(df_sleep_bedtime_calc_allnight_val_copy['Bedtime_Date']).dt.to_period('M')\n",
    "df_sleep_bedtime_calc_allnight_val_copy['Bedtime_Date_month_year_abb']=pd.to_datetime(df_sleep_bedtime_calc_allnight_val_copy['Bedtime_Date']).dt.strftime('%b')"
   ]
  },
  {
   "cell_type": "code",
   "execution_count": null,
   "metadata": {},
   "outputs": [],
   "source": [
    "df_sleep_bedtime_calc_allnight_val_copy['Month_Year_Name_Bedtime']=df_sleep_bedtime_calc_allnight_val_copy['Mon_Year_Bedtime']\n",
    "\n",
    "df_sleep_bedtime_calc_allnight_val_copy.loc[(df_sleep_bedtime_calc_allnight_val_copy['Bedtime_Date'] <dt.date(2020,3,15)) & (df_sleep_bedtime_calc_allnight_val_copy['Bedtime_Date'] >=dt.date(2020,3,1)), 'Month_Year_Name_Bedtime'] = '1-14 Mar-2020'\n",
    "df_sleep_bedtime_calc_allnight_val_copy.loc[(df_sleep_bedtime_calc_allnight_val_copy['Bedtime_Date'] <dt.date(2020,4,1)) & (df_sleep_bedtime_calc_allnight_val_copy['Bedtime_Date'] >dt.date(2020,3,14)), 'Month_Year_Name_Bedtime'] = '15-31 Mar-2020'\n",
    "df_sleep_bedtime_calc_allnight_val_copy.loc[(df_sleep_bedtime_calc_allnight_val_copy['Bedtime_Date'] >=dt.date(2020,4,1)), 'Month_Year_Name_Bedtime'] = df_sleep_bedtime_calc_allnight_val_copy.Month_Year_Name_Bedtime"
   ]
  },
  {
   "cell_type": "code",
   "execution_count": null,
   "metadata": {},
   "outputs": [],
   "source": [
    "#new based on bedtime date month\n",
    "column_Names_bt=df_sleep_bedtime_calc_allnight_val_copy.columns.values\n",
    "df_sleep_bedtime_calc_allnight_val_mean = pd.DataFrame(columns=column_Names_bt)\n",
    "\n",
    "unique_id_avg = df_sleep_bedtime_calc_allnight_val_copy['User UUID'].unique()\n",
    "\n",
    "for i in unique_id_avg: \n",
    "    df_id_avg=df_sleep_bedtime_calc_allnight_val_copy[df_sleep_bedtime_calc_allnight_val_copy['User UUID']==i]\n",
    "    print(i)\n",
    "    \n",
    "    unique_month = df_id_avg['Month_Year_Name_Bedtime'].unique()\n",
    "        \n",
    "    for j in unique_month:\n",
    "        df_id_date_avg=df_id_avg[df_id_avg['Month_Year_Name_Bedtime']==j]\n",
    "        df_id_date_avg['Average_Bedtime']=meanTime(df_id_date_avg['Bedtime_Min_iso_int_converted_time'])\n",
    "        \n",
    "        df_id_date_avg['Average_Waketime']=meanTime(df_id_date_avg['Waketime_Max_iso_int_converted_time'])\n",
    "        \n",
    "        df_sleep_bedtime_calc_allnight_val_mean=df_sleep_bedtime_calc_allnight_val_mean.append(df_id_date_avg)"
   ]
  },
  {
   "cell_type": "code",
   "execution_count": null,
   "metadata": {},
   "outputs": [],
   "source": [
    "#restrict time\n",
    "df_sleep_bedtime_calc_allnight_val_mean_copy=df_sleep_bedtime_calc_allnight_val_mean\n",
    "df_sleep_bedtime_calc_allnight_val_mean=df_sleep_bedtime_calc_allnight_val_mean[(df_sleep_bedtime_calc_allnight_val_mean['Bedtime_Date']>=dt.date(2019,3,1)) & (df_sleep_bedtime_calc_allnight_val_mean['Bedtime_Date'] <=dt.date(2021,6,30))]\n",
    "\n",
    "print(df_sleep_bedtime_calc_allnight_val_mean['Bedtime_Date'].min())\n",
    "\n",
    "print(df_sleep_bedtime_calc_allnight_val_mean['Bedtime_Date'].max())"
   ]
  },
  {
   "cell_type": "code",
   "execution_count": null,
   "metadata": {},
   "outputs": [],
   "source": [
    "df_sleep_bedtime_calc_allnight_val_mean.loc[(df_sleep_bedtime_calc_allnight_val_mean['Bedtime_Date'] <dt.date(2020,3,15)) & (df_sleep_bedtime_calc_allnight_val_mean['Bedtime_Date'] >=dt.date(2019,3,1)), 'closure_status'] = 'Pre Closure'\n",
    "\n",
    "df_sleep_bedtime_calc_allnight_val_mean.loc[(df_sleep_bedtime_calc_allnight_val_mean['Bedtime_Date'] <=dt.date(2021,3,31)) & (df_sleep_bedtime_calc_allnight_val_mean['Bedtime_Date'] >=dt.date(2020,3,15)), 'closure_status'] = 'During Closure'\n",
    "\n",
    "df_sleep_bedtime_calc_allnight_val_mean.loc[(df_sleep_bedtime_calc_allnight_val_mean['Bedtime_Date'] >dt.date(2021,3,31)), 'closure_status'] = 'Post Closure'\n",
    "\n",
    "print(df_sleep_bedtime_calc_allnight_val_mean.groupby('closure_status')['Bedtime_Date'].min())"
   ]
  },
  {
   "cell_type": "code",
   "execution_count": null,
   "metadata": {},
   "outputs": [],
   "source": [
    "df_sleep_bedtime_calc_allnight_val_mean_dup=df_sleep_bedtime_calc_allnight_val_mean.drop_duplicates(subset=['User UUID', 'Month_Year_Name_Bedtime'], keep='first')"
   ]
  },
  {
   "cell_type": "code",
   "execution_count": null,
   "metadata": {},
   "outputs": [],
   "source": [
    "column_Names_avg=df_sleep_bedtime_calc_allnight_val_mean_dup.columns.values\n",
    "df_avg_per_month = pd.DataFrame(columns=column_Names_avg)\n",
    "\n",
    "month_avg = df_sleep_bedtime_calc_allnight_val_mean_dup['Month_Year_Name_Bedtime'].unique()\n",
    "#j=0\n",
    "\n",
    "for i in month_avg: \n",
    "    df_month_avg=df_sleep_bedtime_calc_allnight_val_mean_dup[df_sleep_bedtime_calc_allnight_val_mean_dup['Month_Year_Name_Bedtime']==i]\n",
    "    df_month_avg['Average_Bedtime_per_period']=meanTime(df_month_avg['Average_Bedtime'])\n",
    "    df_month_avg['Average_Waketime_per_period']=meanTime(df_month_avg['Average_Waketime'])\n",
    "    #print(i)\n",
    "    print(i)\n",
    "    \n",
    "    df_avg_per_month=df_avg_per_month.append(df_month_avg)"
   ]
  },
  {
   "cell_type": "code",
   "execution_count": null,
   "metadata": {},
   "outputs": [],
   "source": [
    "df_avg_per_month_bt_dup = df_avg_per_month.drop_duplicates(subset=['Average_Bedtime_per_period','Month_Year_Name_Bedtime'], keep='first')\n"
   ]
  },
  {
   "cell_type": "code",
   "execution_count": null,
   "metadata": {},
   "outputs": [],
   "source": [
    "df_avg_per_month_wt_dup = df_avg_per_month.drop_duplicates(subset=[ 'Average_Waketime_per_period','Month_Year_Name_Bedtime'], keep='first')"
   ]
  },
  {
   "cell_type": "code",
   "execution_count": null,
   "metadata": {},
   "outputs": [],
   "source": [
    "#Calculate pre and post pandemic mean\n",
    "\n",
    "Pre_pandemic_bt=df_avg_per_month_bt_dup[df_avg_per_month_bt_dup['closure_status']=='Pre Closure']\n",
    "Pre_pandemic_wt=df_avg_per_month_wt_dup[df_avg_per_month_wt_dup['closure_status']=='Pre Closure']\n",
    "\n",
    "#Calculate pre and post pandemic mean\n",
    "\n",
    "Post_pandemic_bt=df_avg_per_month_wt_dup[df_avg_per_month_wt_dup['closure_status']=='During Closure']\n",
    "Post_pandemic_wt=df_avg_per_month_wt_dup[df_avg_per_month_wt_dup['closure_status']=='During Closure']\n",
    "\n",
    "meanTime(Pre_pandemic_bt['Average_Bedtime_per_period'])\n",
    "\n"
   ]
  },
  {
   "cell_type": "code",
   "execution_count": null,
   "metadata": {},
   "outputs": [],
   "source": [
    "meanTime(Pre_pandemic_wt['Average_Waketime_per_period'])"
   ]
  },
  {
   "cell_type": "code",
   "execution_count": null,
   "metadata": {},
   "outputs": [],
   "source": [
    "meanTime(Post_pandemic_wt['Average_Waketime_per_period'])"
   ]
  },
  {
   "cell_type": "code",
   "execution_count": null,
   "metadata": {},
   "outputs": [],
   "source": [
    "def meanTime_a(times,type):\n",
    "    t = (time.split(':') for time in times)\n",
    "    seconds = ((float(s) + int(m) * 60 + int(h) * 3600) \n",
    "               for h, m, s in t)\n",
    "    day = 24 * 60 * 60\n",
    "    toAngles = [s * 360. / day for s in seconds]\n",
    "    #x = [(ang + 360) if ang<120 else ang for ang in toAngles]\n",
    "    x = [(ang + 360) if (ang<120 and type=='Night') else ang for ang in toAngles]\n",
    "    mean = (np.mean(x) - 360) if np.mean(x) > 360 else np.mean(x)\n",
    "    std = (np.std(x) - 360) if np.std(x) > 360 else np.std(x)\n",
    "    print(x)\n",
    "    print(mean)\n",
    "    print(std)\n",
    "    for val in [mean, std]:\n",
    "        meanSeconds = val * day / 360.\n",
    "        if meanSeconds < 0:\n",
    "            meanSeconds += day\n",
    "        h, m = divmod(meanSeconds, 3600)\n",
    "        m, s = divmod(m, 60)\n",
    "        print('%02i:%02i:%02i' % (h, m, s))\n"
   ]
  },
  {
   "cell_type": "code",
   "execution_count": null,
   "metadata": {},
   "outputs": [],
   "source": [
    "Pre_pandemic_bt_sum=Pre_pandemic_bt[Pre_pandemic_bt['Month_Year_Name_Bedtime'].isin(['Jun-2019','Jul-2019','Aug-2019'])]"
   ]
  },
  {
   "cell_type": "code",
   "execution_count": null,
   "metadata": {},
   "outputs": [],
   "source": [
    "meanTime(Pre_pandemic_bt_sum['Average_Bedtime_per_period'])"
   ]
  },
  {
   "cell_type": "code",
   "execution_count": null,
   "metadata": {},
   "outputs": [],
   "source": [
    "meanTime_a(Pre_pandemic_bt_sum['Average_Bedtime_per_period'],'Night')"
   ]
  },
  {
   "cell_type": "code",
   "execution_count": null,
   "metadata": {},
   "outputs": [],
   "source": [
    "Pre_pandemic_wt_sum=Pre_pandemic_wt[Pre_pandemic_wt['Month_Year_Name_Bedtime'].isin(['Jun-2019','Jul-2019','Aug-2019'])]\n",
    "Pre_pandemic_wt_sum[['Average_Waketime_per_period','Month_Year_Name_Bedtime']]"
   ]
  },
  {
   "cell_type": "code",
   "execution_count": null,
   "metadata": {},
   "outputs": [],
   "source": [
    "meanTime(Pre_pandemic_wt_sum['Average_Waketime_per_period'])"
   ]
  },
  {
   "cell_type": "code",
   "execution_count": null,
   "metadata": {},
   "outputs": [],
   "source": [
    "meanTime_a(Pre_pandemic_wt_sum['Average_Waketime_per_period'],'Day')"
   ]
  },
  {
   "cell_type": "code",
   "execution_count": null,
   "metadata": {},
   "outputs": [],
   "source": [
    "Post_pandemic_bt_sum=Post_pandemic_bt[Post_pandemic_bt['Month_Year_Name_Bedtime'].isin(['Jun-2020','Jul-2020','Aug-2020'])]\n"
   ]
  },
  {
   "cell_type": "code",
   "execution_count": null,
   "metadata": {},
   "outputs": [],
   "source": [
    "meanTime_a(Post_pandemic_bt_sum['Average_Bedtime_per_period'],'Night')"
   ]
  },
  {
   "cell_type": "code",
   "execution_count": null,
   "metadata": {},
   "outputs": [],
   "source": [
    "meanTime(Post_pandemic_bt_sum['Average_Bedtime_per_period'])"
   ]
  },
  {
   "cell_type": "code",
   "execution_count": null,
   "metadata": {},
   "outputs": [],
   "source": [
    "Post_pandemic_wt_sum=Post_pandemic_wt[Post_pandemic_wt['Month_Year_Name_Bedtime'].isin(['Jun-2020','Jul-2020','Aug-2020'])]\n"
   ]
  },
  {
   "cell_type": "code",
   "execution_count": null,
   "metadata": {},
   "outputs": [],
   "source": [
    "meanTime_a(Post_pandemic_wt_sum['Average_Waketime_per_period'],'Day')"
   ]
  },
  {
   "cell_type": "code",
   "execution_count": null,
   "metadata": {},
   "outputs": [],
   "source": [
    "meanTime(Post_pandemic_wt_sum['Average_Waketime_per_period'])"
   ]
  },
  {
   "cell_type": "code",
   "execution_count": null,
   "metadata": {},
   "outputs": [],
   "source": [
    "#Round average to nearest 15 min\n",
    "df_avg_per_month_bt_dup=df_sleep_bedtime_calc_allnight_val_mean_dup\n",
    "df_avg_per_month_bt_dup['Average_Bedtime_Round_fifteenmin']=pd.to_datetime(pd.to_datetime(pd.to_datetime(df_avg_per_month_bt_dup['Average_Bedtime'],format= '%H:%M:%S' ).dt.round('15min')).dt.strftime(\"%H:%M:%S\"))\n",
    "\n",
    "df_avg_per_month_wt_dup=df_sleep_bedtime_calc_allnight_val_mean_dup\n",
    "df_avg_per_month_wt_dup['Average_Waketime_Round_fifteenmin']=pd.to_datetime(pd.to_datetime(pd.to_datetime(df_avg_per_month_wt_dup['Average_Waketime'],format= '%H:%M:%S' ).dt.round('15min')).dt.strftime(\"%H:%M:%S\"))\n"
   ]
  },
  {
   "cell_type": "code",
   "execution_count": null,
   "metadata": {},
   "outputs": [],
   "source": [
    "df_avg_per_month_bt_dup['bt_hr']=df_avg_per_month_bt_dup['Average_Bedtime_Round_fifteenmin'].dt.strftime(\"%H\").astype(str)\n",
    "df_avg_per_month_bt_dup['bt_min']=df_avg_per_month_bt_dup['Average_Bedtime_Round_fifteenmin'].dt.strftime(\"%M\").astype(str)\n",
    "df_avg_per_month_bt_dup['bt_float']=df_avg_per_month_bt_dup['bt_hr']+'.'+df_avg_per_month_bt_dup['bt_min']"
   ]
  },
  {
   "cell_type": "code",
   "execution_count": null,
   "metadata": {},
   "outputs": [],
   "source": [
    "df_avg_per_month_bt_dup.loc[(df_avg_per_month_bt_dup['bt_min'] =='15'), 'bt_min_float'] = '25'\n",
    "df_avg_per_month_bt_dup.loc[(df_avg_per_month_bt_dup['bt_min'] =='30'), 'bt_min_float'] = '50'\n",
    "df_avg_per_month_bt_dup.loc[(df_avg_per_month_bt_dup['bt_min'] =='45'), 'bt_min_float'] = '75'\n",
    "df_avg_per_month_bt_dup.loc[(df_avg_per_month_bt_dup['bt_min'] =='00'), 'bt_min_float'] = '00'"
   ]
  },
  {
   "cell_type": "code",
   "execution_count": null,
   "metadata": {},
   "outputs": [],
   "source": [
    "df_avg_per_month_bt_dup['bt_float']=df_avg_per_month_bt_dup['bt_hr']+'.'+df_avg_per_month_bt_dup['bt_min_float']"
   ]
  },
  {
   "cell_type": "code",
   "execution_count": null,
   "metadata": {},
   "outputs": [],
   "source": [
    "df_avg_per_month_wt_dup['wt_hr']=df_avg_per_month_wt_dup['Average_Waketime_Round_fifteenmin'].dt.strftime(\"%H\").astype(str)\n",
    "df_avg_per_month_wt_dup['wt_min']=df_avg_per_month_wt_dup['Average_Waketime_Round_fifteenmin'].dt.strftime(\"%M\").astype(str)\n",
    "df_avg_per_month_wt_dup.loc[(df_avg_per_month_wt_dup['wt_min'] =='15'), 'wt_min_float'] = '25'\n",
    "df_avg_per_month_wt_dup.loc[(df_avg_per_month_wt_dup['wt_min'] =='30'), 'wt_min_float'] = '50'\n",
    "df_avg_per_month_wt_dup.loc[(df_avg_per_month_wt_dup['wt_min'] =='45'), 'wt_min_float'] = '75'\n",
    "df_avg_per_month_wt_dup.loc[(df_avg_per_month_wt_dup['wt_min'] =='00'), 'wt_min_float'] = '00'"
   ]
  },
  {
   "cell_type": "code",
   "execution_count": null,
   "metadata": {},
   "outputs": [],
   "source": [
    "df_avg_per_month_wt_dup['wt_float']=df_avg_per_month_wt_dup['wt_hr']+'.'+df_avg_per_month_wt_dup['wt_min_float']"
   ]
  },
  {
   "cell_type": "code",
   "execution_count": null,
   "metadata": {},
   "outputs": [],
   "source": [
    "#Wake figure\n",
    "df_avg_per_month_wt_dup_order=df_avg_per_month_wt_dup\n",
    "df_avg_per_month_wt_dup_order['wt_float']=df_avg_per_month_wt_dup_order['wt_float'].astype(float)\n",
    "\n",
    "\n",
    "df_avg_per_month_wt_dup_order['flip_wake']=0\n",
    "\n",
    "df_avg_per_month_wt_dup_order.loc[(df_avg_per_month_wt_dup_order['wt_float'] >12), 'flip_wake'] = df_avg_per_month_wt_dup_order['wt_float']-12\n",
    "\n",
    "df_avg_per_month_wt_dup_order.loc[(df_avg_per_month_wt_dup_order['wt_float'] <12), 'flip_wake'] = df_avg_per_month_wt_dup_order['wt_float']+12\n",
    "df_avg_per_month_wt_dup_order[['flip_wake','wt_float']]\n"
   ]
  },
  {
   "cell_type": "code",
   "execution_count": null,
   "metadata": {},
   "outputs": [],
   "source": [
    "df_avg_per_month_wt_dup_order_fig2 = df_avg_per_month_wt_dup_order.drop_duplicates(subset=['User UUID', 'Average_Waketime_Round_fifteenmin','Month_Year_Name_Bedtime'], keep='first')\n"
   ]
  },
  {
   "cell_type": "code",
   "execution_count": null,
   "metadata": {},
   "outputs": [],
   "source": [
    "fig_2_sort_wake=df_avg_per_month_wt_dup_order_fig2\n",
    "fig_2_sort_wake=fig_2_sort_wake[(fig_2_sort_wake['closure_status'] =='During Closure')|(fig_2_sort_wake['closure_status'] =='Pre Closure')]\n",
    "\n",
    "fig_2_sort_wake['Bedtime_Date_Month_Closure']=fig_2_sort_wake['Month_Year_Name_Bedtime'].str[0:3]\n",
    "fig_2_sort_wake.loc[(fig_2_sort_wake['Month_Year_Name_Bedtime']=='1-14 Mar-2020'), 'Bedtime_Date_Month_Closure']='Mar'\n",
    "fig_2_sort_wake.loc[(fig_2_sort_wake['Month_Year_Name_Bedtime']=='15-31 Mar-2020'), 'Bedtime_Date_Month_Closure']='Mar'\n",
    "fig_2_sort_wake['month_only'] = pd.Categorical(fig_2_sort_wake['Bedtime_Date_Month_Closure'],\n",
    "                                   categories=['Jan', 'Feb','Mar', 'Apr', 'May', 'Jun', 'Jul', 'Aug', 'Sep',\n",
    "       'Oct', 'Nov', 'Dec'],\n",
    "                                   ordered=True)\n",
    "\n"
   ]
  },
  {
   "cell_type": "code",
   "execution_count": null,
   "metadata": {},
   "outputs": [],
   "source": [
    "\n",
    "plt.figure(figsize=(95,35))\n",
    "sns.set(font_scale =8)\n",
    "sns.set_style(\"white\")\n",
    "#sns.set_palette(\"rocket_r\", 8, .75)\n",
    "#sns.color_palette(\"rocket_r\")\n",
    "\n",
    "palette = {'Pre Closure':\"indianred\",\n",
    "            #2020:\"paleturquoise\"\n",
    "           'During Closure':\"gold\"}\n",
    "ax=sns.boxplot(x = 'month_only', y = 'flip_wake',\n",
    "               data = fig_2_sort_wake\n",
    "           ,hue='closure_status'\n",
    "           , palette=palette\n",
    "              , linewidth=12,\n",
    "                showfliers=False\n",
    "                      )\n",
    "plt.setp(ax.get_xticklabels(), rotation=0)\n",
    "plt.yticks([17.,17.5,18.,18.5,19.,19.5,20,20.5,21.,21.5,22.,22.5],['5 AM','5:30 AM','6 AM','6:30 AM','7 AM','7:30 AM','8 AM','8:30 AM','9 AM','9:30 AM','10 AM','10:30 AM'])\n",
    "ax.set_xlabel(\" \",fontdict= { 'fontsize': 90, 'fontweight':'bold'}, y =4.5)\n",
    "ax.set_ylabel(\"Average Daily Wake Time\",fontdict= { 'fontsize': 100, 'fontweight':'bold'})\n",
    "ax.set_title('Average Daily Wake Times By Month (rounded to nearest 15 mins) for Participants(Night Sleep)',fontdict= { 'fontsize': 90, 'fontweight':'bold'}, y =1.03)\n",
    "plt.legend(bbox_to_anchor=(1.01,0.5), loc=\"center left\", borderaxespad=0,frameon=True,edgecolor='black'\n",
    "           ,title='Year',framealpha=0.5)\n",
    "plt.setp(ax.get_legend().get_texts(), fontsize='80') # for legend text\n",
    "plt.setp(ax.get_legend().get_title(), fontsize='80') # for legend title\n"
   ]
  },
  {
   "cell_type": "code",
   "execution_count": null,
   "metadata": {},
   "outputs": [],
   "source": [
    "\n",
    "df_avg_per_month_bt_dup_order=df_avg_per_month_bt_dup\n"
   ]
  },
  {
   "cell_type": "code",
   "execution_count": null,
   "metadata": {},
   "outputs": [],
   "source": [
    "\n",
    "df_avg_per_month_bt_dup_order=df_avg_per_month_bt_dup\n",
    "df_avg_per_month_bt_dup_order['bt_float']=df_avg_per_month_bt_dup_order['bt_float'].astype(float)\n",
    "\n",
    "df_avg_per_month_bt_dup_order['flip']=0\n",
    "\n",
    "df_avg_per_month_bt_dup_order.loc[(df_avg_per_month_bt_dup_order['bt_float'] >12), 'flip'] = df_avg_per_month_bt_dup_order['bt_float']-12\n",
    "\n",
    "df_avg_per_month_bt_dup_order.loc[(df_avg_per_month_bt_dup_order['bt_float'] <12), 'flip'] = df_avg_per_month_bt_dup_order['bt_float']+12"
   ]
  },
  {
   "cell_type": "code",
   "execution_count": null,
   "metadata": {},
   "outputs": [],
   "source": [
    "\n",
    "#Based on Bedtime_Date_Month\n",
    "\n",
    "df_avg_per_month_bt_dup_order_fig2 = df_avg_per_month_bt_dup_order.drop_duplicates(subset=['User UUID', 'Average_Bedtime_Round_fifteenmin','Month_Year_Name_Bedtime'], keep='first')\n"
   ]
  },
  {
   "cell_type": "code",
   "execution_count": null,
   "metadata": {},
   "outputs": [],
   "source": [
    "\n",
    "fig_2_sort=df_avg_per_month_bt_dup_order_fig2\n",
    "fig_2_sort=fig_2_sort[(fig_2_sort['closure_status'] =='During Closure')|(fig_2_sort['closure_status'] =='Pre Closure')]\n",
    "\n",
    "fig_2_sort['Bedtime_Date_Month_Closure']=fig_2_sort['Month_Year_Name_Bedtime'].str[0:3]\n",
    "fig_2_sort.loc[(fig_2_sort['Month_Year_Name_Bedtime']=='1-14 Mar-2020'), 'Bedtime_Date_Month_Closure']='Mar'\n",
    "fig_2_sort.loc[(fig_2_sort['Month_Year_Name_Bedtime']=='15-31 Mar-2020'), 'Bedtime_Date_Month_Closure']='Mar'\n",
    "fig_2_sort['month_only'] = pd.Categorical(fig_2_sort['Bedtime_Date_Month_Closure'],\n",
    "                                   categories=['Jan', 'Feb','Mar', 'Apr', 'May', 'Jun', 'Jul', 'Aug', 'Sep',\n",
    "       'Oct', 'Nov', 'Dec'],\n",
    "                                   ordered=True)\n",
    "\n",
    "\n",
    "fig_2_sort['Month_Only_abb']=fig_2_sort['Start_Time_Offset'].dt.strftime('%b')\n",
    "\n",
    "fig_2_sort['Bedtime_Date_Month']=pd.to_datetime(fig_2_sort['Bedtime_Date']).dt.strftime('%b')\n"
   ]
  },
  {
   "cell_type": "code",
   "execution_count": null,
   "metadata": {},
   "outputs": [],
   "source": [
    "#based on Bedtime_Date_Month final\n",
    "\n",
    "plt.figure(figsize=(95,35))\n",
    "sns.set(font_scale =8)\n",
    "sns.set_style(\"white\")\n",
    "\n",
    "palette = {'Pre Closure':\"steelblue\",\n",
    "           'During Closure':\"skyblue\"\n",
    "           }\n",
    "ax=sns.boxplot(x = 'month_only', y = 'flip'\n",
    "               , data = fig_2_sort\n",
    "           ,hue='closure_status'\n",
    "           , palette=palette\n",
    "              , linewidth=12,\n",
    "                showfliers=False\n",
    "            )\n",
    "plt.setp(ax.get_xticklabels(), rotation=0)\n",
    "plt.yticks([8.,9.,10.,11.,12.,13.,14.,15.,16.],['8 PM','9 PM','10 PM','11 PM','12 AM','1 AM','2 AM','3 AM','4 AM'])\n",
    "ax.set_xlabel(\" \",fontdict= { 'fontsize': 90, 'fontweight':'bold'}, y =4.5)\n",
    "ax.set_ylabel(\"Average Daily Bed Time\",fontdict= { 'fontsize': 100, 'fontweight':'bold'})\n",
    "ax.set_title('Average Daily Sleep Times By Month (rounded to nearest 15 mins) for Participants(Night Sleep)',fontdict= { 'fontsize': 90, 'fontweight':'bold'}, y =1.03)\n",
    "plt.legend(bbox_to_anchor=(1.01,0.5), loc=\"center left\", borderaxespad=0,frameon=True,edgecolor='black'\n",
    "           ,title='Year',framealpha=0.5)\n",
    "plt.setp(ax.get_legend().get_texts(), fontsize='80') # for legend text\n",
    "plt.setp(ax.get_legend().get_title(), fontsize='80') # for legend title\n"
   ]
  },
  {
   "cell_type": "code",
   "execution_count": null,
   "metadata": {},
   "outputs": [],
   "source": [
    "\n",
    "\n",
    "\n",
    "df_sleep_bedtime_calc_allnight_val_mean_order['flip_wake']=0\n",
    "\n",
    "df_sleep_bedtime_calc_allnight_val_mean_order.loc[(df_sleep_bedtime_calc_allnight_val_mean_order['Average_Waketime_Round_thirtymin_Float'] >12), 'flip_wake'] = df_sleep_bedtime_calc_allnight_val_mean_order['Average_Waketime_Round_thirtymin_Float']-12\n",
    "\n",
    "df_sleep_bedtime_calc_allnight_val_mean_order.loc[(df_sleep_bedtime_calc_allnight_val_mean_order['Average_Waketime_Round_thirtymin_Float'] <12), 'flip_wake'] = df_sleep_bedtime_calc_allnight_val_mean_order['Average_Waketime_Round_thirtymin_Float']+12\n",
    "\n",
    "df_sleep_bedtime_calc_allnight_val_mean_order[['flip','Average_Bedtime_Round_thirtymin_Float']]\n",
    "\n",
    "df_sleep_bedtime_calc_allnight_val_mean_order[['flip_wake','Average_Waketime_Round_thirtymin_Float']]\n"
   ]
  },
  {
   "cell_type": "code",
   "execution_count": null,
   "metadata": {},
   "outputs": [],
   "source": [
    "df_sleep_bedtime_calc_allnight_val_mean_dup = df_sleep_bedtime_calc_allnight_val_mean.drop_duplicates(subset=['User UUID', 'Average_Bedtime_Round_thirtymin_Float','Month_Year_Name_Bedtime'], keep='first')\n",
    "\n",
    "\n",
    "df_sleep_waketime_calc_allnight_val_mean_dup = df_sleep_bedtime_calc_allnight_val_mean.drop_duplicates(subset=['User UUID', 'Average_Waketime_Round_thirtymin','Month_Year_Name_Bedtime'], keep='first')\n"
   ]
  },
  {
   "cell_type": "code",
   "execution_count": null,
   "metadata": {},
   "outputs": [],
   "source": [
    "#Sleep duration"
   ]
  },
  {
   "cell_type": "code",
   "execution_count": null,
   "metadata": {},
   "outputs": [],
   "source": [
    "\n",
    "\n",
    "df_sleep_bedtime_calc_allnight_val_mean_order=df_sleep_bedtime_calc_allnight_val_mean\n",
    "\n",
    "#Sleep duration\n",
    "\n",
    "df_sleep_duration=df_sleep_bedtime_calc_allnight_val_mean_order\n",
    "\n",
    "\n",
    "df_sleep_duration['Total_Sleep_Per_Day_Bedtime'] = df_sleep_duration.groupby(['Bedtime_Date', 'User UUID'])['Value'].transform('sum')\n",
    "\n",
    "df_sleep_duration['Total_Sleep_Per_Day_Bedtime_float']=df_sleep_duration['Total_Sleep_Per_Day_Bedtime'].astype(float)\n",
    "\n",
    "df_sleep_duration['Total_Sleep_Per_Day_Bedtime_float_Hours']=df_sleep_duration['Total_Sleep_Per_Day_Bedtime_float']/3600\n",
    "\n",
    "df_sleep_duration['Average_Monthly_Sleep_Duration_Bedtime'] = df_sleep_duration.groupby([ 'User UUID','Month_Year_Name_Bedtime'])['Total_Sleep_Per_Day_Bedtime_float_Hours'].transform('mean')\n",
    "\n",
    "\n",
    "\n",
    "df_sleep_duration_fig1 = df_sleep_duration.drop_duplicates(subset=['User UUID', 'Average_Monthly_Sleep_Duration_Bedtime','Month_Year_Name_Bedtime'], keep='first')\n"
   ]
  },
  {
   "cell_type": "code",
   "execution_count": null,
   "metadata": {
    "scrolled": true
   },
   "outputs": [],
   "source": [
    "\n",
    "\n",
    "#Min\n",
    "df_sleep_duration_fig1.groupby('closure_status')['Average_Monthly_Sleep_Duration_Bedtime'].min()\n",
    "\n",
    "\n"
   ]
  },
  {
   "cell_type": "code",
   "execution_count": null,
   "metadata": {},
   "outputs": [],
   "source": [
    "\n",
    "#Max\n",
    "df_sleep_duration_fig1.groupby('closure_status')['Average_Monthly_Sleep_Duration_Bedtime'].max()\n",
    "\n"
   ]
  },
  {
   "cell_type": "code",
   "execution_count": null,
   "metadata": {},
   "outputs": [],
   "source": [
    "\n",
    "#Mean\n",
    "df_sleep_duration_fig1.groupby('closure_status')['Average_Monthly_Sleep_Duration_Bedtime'].mean()\n",
    "\n"
   ]
  },
  {
   "cell_type": "code",
   "execution_count": null,
   "metadata": {},
   "outputs": [],
   "source": [
    "\n",
    "#Std\n",
    "df_sleep_duration_fig1.groupby('closure_status')['Average_Monthly_Sleep_Duration_Bedtime'].std()\n",
    "\n"
   ]
  },
  {
   "cell_type": "code",
   "execution_count": null,
   "metadata": {},
   "outputs": [],
   "source": [
    "\n",
    "\n",
    "#Users\n",
    "df_sleep_duration_fig1.groupby('closure_status')['User UUID'].nunique()"
   ]
  },
  {
   "cell_type": "code",
   "execution_count": null,
   "metadata": {},
   "outputs": [],
   "source": [
    "df_sleep_duration_month=df_sleep_duration\n",
    "\n",
    "df_sleep_duration_month['Avg_Sleep_Duration_Per_Month'] = df_sleep_duration_month.groupby(['Month_Year_Name_Bedtime'])['Average_Monthly_Sleep_Duration_Bedtime'].transform('mean')\n",
    "\n",
    "\n",
    "df_sleep_duration_month = df_sleep_duration_month.drop_duplicates(subset=['Avg_Sleep_Duration_Per_Month','Month_Year_Name_Bedtime'], keep='first')\n"
   ]
  },
  {
   "cell_type": "code",
   "execution_count": null,
   "metadata": {},
   "outputs": [],
   "source": [
    "#Min\n",
    "df_sleep_duration_month.groupby('closure_status')['Avg_Sleep_Duration_Per_Month'].min()"
   ]
  },
  {
   "cell_type": "code",
   "execution_count": null,
   "metadata": {},
   "outputs": [],
   "source": [
    "\n",
    "#Max\n",
    "df_sleep_duration_month.groupby('closure_status')['Avg_Sleep_Duration_Per_Month'].max()"
   ]
  },
  {
   "cell_type": "code",
   "execution_count": null,
   "metadata": {},
   "outputs": [],
   "source": [
    "\n",
    "#Mean\n",
    "df_sleep_duration_month.groupby('closure_status')['Avg_Sleep_Duration_Per_Month'].mean()\n"
   ]
  },
  {
   "cell_type": "code",
   "execution_count": null,
   "metadata": {},
   "outputs": [],
   "source": [
    "#Std\n",
    "df_sleep_duration_month.groupby('closure_status')['Avg_Sleep_Duration_Per_Month'].std()"
   ]
  },
  {
   "cell_type": "code",
   "execution_count": null,
   "metadata": {},
   "outputs": [],
   "source": [
    "#Statistical test\n",
    "\n",
    "sleep_pre_closure=df_sleep_duration_month[df_sleep_duration_month['closure_status']=='Pre Closure']\n",
    "\n",
    "sleep_pre_closure['Bedtime_Date']=pd.to_datetime(sleep_pre_closure['Bedtime_Date'])\n",
    "\n",
    "sleep_pre_closure['month_num']=sleep_pre_closure['Bedtime_Date'].dt.month\n",
    "\n",
    "sleep_pre_closure=sleep_pre_closure.sort_values(by=['month_num'])\n",
    "\n",
    "sleep_pre_closure_dup = sleep_pre_closure.drop_duplicates(subset=['Avg_Sleep_Duration_Per_Month', 'Month_Year_Name_Bedtime'], keep='first')\n",
    "sleep_pre_closure_dup=sleep_pre_closure_dup[['Avg_Sleep_Duration_Per_Month', 'Month_Year_Name_Bedtime']]\n",
    "\n"
   ]
  },
  {
   "cell_type": "code",
   "execution_count": null,
   "metadata": {},
   "outputs": [],
   "source": [
    "#Statistical test\n",
    "\n",
    "sleep_dur_closure=df_sleep_duration_month[df_sleep_duration_month['closure_status']=='During Closure']\n",
    "\n",
    "sleep_dur_closure['Bedtime_Date']=pd.to_datetime(sleep_dur_closure['Bedtime_Date'])\n",
    "\n",
    "sleep_dur_closure['month_num']=sleep_dur_closure['Bedtime_Date'].dt.month\n",
    "\n",
    "sleep_dur_closure=sleep_dur_closure.sort_values(by=['month_num'])\n",
    "\n",
    "\n",
    "sleep_dur_closure_dup = sleep_dur_closure.drop_duplicates(subset=['Avg_Sleep_Duration_Per_Month', 'Month_Year_Name_Bedtime'], keep='first')\n",
    "sleep_dur_closure_dup=sleep_dur_closure_dup[['Avg_Sleep_Duration_Per_Month', 'Month_Year_Name_Bedtime']]\n"
   ]
  },
  {
   "cell_type": "code",
   "execution_count": null,
   "metadata": {},
   "outputs": [],
   "source": [
    "\n",
    "from scipy.stats import mannwhitneyu\n",
    "U1, p = mannwhitneyu(sleep_dur_closure_dup['Avg_Sleep_Duration_Per_Month'], sleep_pre_closure_dup['Avg_Sleep_Duration_Per_Month'])\n",
    "print(U1)\n",
    "#print(p*100)\n",
    "\n",
    "print(p)"
   ]
  },
  {
   "cell_type": "code",
   "execution_count": null,
   "metadata": {},
   "outputs": [],
   "source": [
    "#Figure"
   ]
  },
  {
   "cell_type": "code",
   "execution_count": null,
   "metadata": {},
   "outputs": [],
   "source": [
    "fig_duration_sort=df_sleep_duration_fig1\n",
    "\n",
    "fig_duration_sort=fig_duration_sort[(fig_duration_sort['closure_status'] =='During Closure')|(fig_duration_sort['closure_status'] =='Pre Closure')]\n",
    "\n",
    "fig_duration_sort['Bedtime_Date_Month_Closure']=fig_duration_sort['Month_Year_Name_Bedtime'].str[0:3]\n",
    "fig_duration_sort.loc[(fig_duration_sort['Month_Year_Name_Bedtime']=='1-14 Mar-2020'), 'Bedtime_Date_Month_Closure']='Mar'\n",
    "fig_duration_sort.loc[(fig_duration_sort['Month_Year_Name_Bedtime']=='15-31 Mar-2020'), 'Bedtime_Date_Month_Closure']='Mar'\n",
    "\n",
    "fig_duration_sort['month_only'] = pd.Categorical(fig_duration_sort['Bedtime_Date_Month_Closure'],\n",
    "                                   categories=['Jan', 'Feb','Mar', 'Apr', 'May', 'Jun', 'Jul', 'Aug', 'Sep',\n",
    "       'Oct', 'Nov', 'Dec'],\n",
    "                                   ordered=True)"
   ]
  },
  {
   "cell_type": "code",
   "execution_count": null,
   "metadata": {},
   "outputs": [],
   "source": [
    "\n",
    "plt.figure(figsize=(100,40))\n",
    "sns.set(font_scale =8)\n",
    "sns.set_style(\"white\")\n",
    "#sns.set_palette(\"rocket_r\", 8, .75)\n",
    "#sns.color_palette(\"rocket_r\")\n",
    "palette = {'Pre Closure':\"yellowgreen\",\n",
    "           'During Closure':\"pink\"\n",
    "           }\n",
    "ax=sns.boxplot(x = 'month_only', y = 'Average_Monthly_Sleep_Duration_Bedtime'\n",
    "               , data = fig_duration_sort\n",
    "           ,hue='closure_status'\n",
    "           , palette=palette\n",
    "              , linewidth=14,\n",
    "                showfliers=False\n",
    "                       )\n",
    "plt.setp(ax.get_xticklabels(), rotation=0)\n",
    "ax.set_xlabel(\" \",fontdict= { 'fontsize': 90, 'fontweight':'bold'}, y =4.5)\n",
    "ax.set_ylabel(\"Average Daily Sleep Duration (Hours)\",fontdict= { 'fontsize': 100, 'fontweight':'bold'})\n",
    "ax.set_title('Average Daily Sleep Duration By Month (rounded to nearest 30 mins) for Participants(Night Sleep)',fontdict= { 'fontsize': 90, 'fontweight':'bold'}, y =1.03)\n",
    "plt.legend(bbox_to_anchor=(1.04,0.5), loc=\"center left\", borderaxespad=0,frameon=True,edgecolor='black'\n",
    "           ,title='Year',framealpha=0.5)\n",
    "plt.setp(ax.get_legend().get_texts(), fontsize='90') # for legend text\n",
    "plt.setp(ax.get_legend().get_title(), fontsize='90') # for legend title\n"
   ]
  }
 ],
 "metadata": {
  "kernelspec": {
   "display_name": "Python 3",
   "language": "python",
   "name": "python3"
  },
  "language_info": {
   "codemirror_mode": {
    "name": "ipython",
    "version": 3
   },
   "file_extension": ".py",
   "mimetype": "text/x-python",
   "name": "python",
   "nbconvert_exporter": "python",
   "pygments_lexer": "ipython3",
   "version": "3.7.6"
  }
 },
 "nbformat": 4,
 "nbformat_minor": 2
}
